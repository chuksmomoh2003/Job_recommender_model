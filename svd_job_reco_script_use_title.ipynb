{
 "cells": [
  {
   "cell_type": "code",
   "execution_count": 6,
   "id": "be6c352b-e123-42eb-81cb-7037bd434d9d",
   "metadata": {
    "tags": []
   },
   "outputs": [
    {
     "name": "stdout",
     "output_type": "stream",
     "text": [
      "Model loaded successfully.\n",
      "Recommended titles for User 14: [('Administrative Specialist - Remote', 43.00068423320498), ('Associate or Analyst, Data Engineering', 35.593895620390555), ('Frontend Engineer', 34.38725030369675), ('Associate Software Engineer', 32.000957815919705)]\n"
     ]
    }
   ],
   "source": [
    "import joblib\n",
    "import pandas as pd\n",
    "\n",
    "# Load the cleaned dataset (assuming the dataset is already preprocessed)\n",
    "cleaned_data = pd.read_csv('cleaned_job_posting_for_svd_use_title.csv')  # Adjust the path as necessary\n",
    "\n",
    "# Load the trained SVD model\n",
    "model = joblib.load('svd_model_job_use_title.joblib')\n",
    "print(\"Model loaded successfully.\")\n",
    "\n",
    "# Define the recommendation function\n",
    "def recommend_titles_for_user(User_ID, model, num_recommendations=4):\n",
    "    # Get all unique titles from the dataset\n",
    "    all_titles = cleaned_data['title'].unique()\n",
    "\n",
    "    # Predict the rating for each title for the user\n",
    "    predicted_ratings = []\n",
    "    for title in all_titles:\n",
    "        pred = model.predict(User_ID, title)\n",
    "        predicted_ratings.append((title, pred.est))\n",
    "\n",
    "    # Sort the predicted ratings and return the top N recommendations\n",
    "    top_recommendations = sorted(predicted_ratings, key=lambda x: x[1], reverse=True)[:num_recommendations]\n",
    "\n",
    "    return top_recommendations\n",
    "\n",
    "# Example usage: Generate recommendations for User 103\n",
    "user_id = 14\n",
    "recommended_titles = recommend_titles_for_user(user_id, model)\n",
    "print(f\"Recommended titles for User {user_id}: {recommended_titles}\")"
   ]
  },
  {
   "cell_type": "code",
   "execution_count": 2,
   "id": "03f40f46-8040-4286-8b66-ee41aa05479a",
   "metadata": {
    "tags": []
   },
   "outputs": [
    {
     "name": "stdout",
     "output_type": "stream",
     "text": [
      "Collecting scikit-surprise\n",
      "  Using cached scikit_surprise-1.1.4-cp310-cp310-linux_x86_64.whl\n",
      "Requirement already satisfied: joblib>=1.2.0 in /opt/conda/lib/python3.10/site-packages (from scikit-surprise) (1.4.2)\n",
      "Requirement already satisfied: numpy>=1.19.5 in /opt/conda/lib/python3.10/site-packages (from scikit-surprise) (1.25.2)\n",
      "Requirement already satisfied: scipy>=1.6.0 in /opt/conda/lib/python3.10/site-packages (from scikit-surprise) (1.11.4)\n",
      "Installing collected packages: scikit-surprise\n",
      "Successfully installed scikit-surprise-1.1.4\n",
      "Note: you may need to restart the kernel to use updated packages.\n"
     ]
    }
   ],
   "source": [
    "pip install scikit-surprise"
   ]
  },
  {
   "cell_type": "code",
   "execution_count": null,
   "id": "5f90dea8-ab68-4df6-9323-6c687a5aba62",
   "metadata": {},
   "outputs": [],
   "source": []
  }
 ],
 "metadata": {
  "kernelspec": {
   "display_name": "Python (Local)",
   "language": "python",
   "name": "base"
  },
  "language_info": {
   "codemirror_mode": {
    "name": "ipython",
    "version": 3
   },
   "file_extension": ".py",
   "mimetype": "text/x-python",
   "name": "python",
   "nbconvert_exporter": "python",
   "pygments_lexer": "ipython3",
   "version": "3.10.15"
  }
 },
 "nbformat": 4,
 "nbformat_minor": 5
}
