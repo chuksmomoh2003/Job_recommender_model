{
 "cells": [
  {
   "cell_type": "code",
   "execution_count": 1,
   "id": "6a455337-71a7-4660-ba10-ca4f6b191e34",
   "metadata": {
    "tags": []
   },
   "outputs": [
    {
     "name": "stdout",
     "output_type": "stream",
     "text": [
      "Collecting scikit-surprise\n",
      "  Using cached scikit_surprise-1.1.4-cp310-cp310-linux_x86_64.whl\n",
      "Requirement already satisfied: joblib>=1.2.0 in /opt/conda/lib/python3.10/site-packages (from scikit-surprise) (1.4.2)\n",
      "Requirement already satisfied: numpy>=1.19.5 in /opt/conda/lib/python3.10/site-packages (from scikit-surprise) (1.25.2)\n",
      "Requirement already satisfied: scipy>=1.6.0 in /opt/conda/lib/python3.10/site-packages (from scikit-surprise) (1.11.4)\n",
      "Installing collected packages: scikit-surprise\n",
      "Successfully installed scikit-surprise-1.1.4\n",
      "Note: you may need to restart the kernel to use updated packages.\n"
     ]
    }
   ],
   "source": [
    "pip install scikit-surprise"
   ]
  },
  {
   "cell_type": "code",
   "execution_count": 2,
   "id": "76d595fe-8ee6-4f00-85e4-b695aafef055",
   "metadata": {
    "tags": []
   },
   "outputs": [],
   "source": [
    "import pandas as pd\n",
    "import numpy as np\n",
    "from surprise import Dataset, Reader, SVD\n",
    "from surprise.model_selection import train_test_split\n",
    "from surprise import accuracy\n",
    "pd.set_option('display.max_rows', None)\n",
    "pd.set_option('display.max_columns', None)"
   ]
  },
  {
   "cell_type": "code",
   "execution_count": 3,
   "id": "7016f06b-bdbb-4d53-bc7c-7f2db6337d10",
   "metadata": {
    "tags": []
   },
   "outputs": [
    {
     "data": {
      "text/html": [
       "<div>\n",
       "<style scoped>\n",
       "    .dataframe tbody tr th:only-of-type {\n",
       "        vertical-align: middle;\n",
       "    }\n",
       "\n",
       "    .dataframe tbody tr th {\n",
       "        vertical-align: top;\n",
       "    }\n",
       "\n",
       "    .dataframe thead th {\n",
       "        text-align: right;\n",
       "    }\n",
       "</style>\n",
       "<table border=\"1\" class=\"dataframe\">\n",
       "  <thead>\n",
       "    <tr style=\"text-align: right;\">\n",
       "      <th></th>\n",
       "      <th>job_id</th>\n",
       "      <th>company_name</th>\n",
       "      <th>title</th>\n",
       "      <th>description</th>\n",
       "      <th>max_salary</th>\n",
       "      <th>pay_period</th>\n",
       "      <th>location</th>\n",
       "      <th>company_id</th>\n",
       "      <th>views</th>\n",
       "      <th>med_salary</th>\n",
       "      <th>min_salary</th>\n",
       "      <th>formatted_work_type</th>\n",
       "      <th>applies</th>\n",
       "      <th>original_listed_time</th>\n",
       "      <th>remote_allowed</th>\n",
       "      <th>job_posting_url</th>\n",
       "      <th>application_url</th>\n",
       "      <th>application_type</th>\n",
       "      <th>expiry</th>\n",
       "      <th>closed_time</th>\n",
       "      <th>formatted_experience_level</th>\n",
       "      <th>skills_desc</th>\n",
       "      <th>listed_time</th>\n",
       "      <th>posting_domain</th>\n",
       "      <th>sponsored</th>\n",
       "      <th>work_type</th>\n",
       "      <th>currency</th>\n",
       "      <th>compensation_type</th>\n",
       "      <th>normalized_salary</th>\n",
       "      <th>zip_code</th>\n",
       "      <th>fips</th>\n",
       "    </tr>\n",
       "  </thead>\n",
       "  <tbody>\n",
       "    <tr>\n",
       "      <th>0</th>\n",
       "      <td>921716</td>\n",
       "      <td>Corcoran Sawyer Smith</td>\n",
       "      <td>Marketing Coordinator</td>\n",
       "      <td>Job descriptionA leading real estate firm in N...</td>\n",
       "      <td>20.0</td>\n",
       "      <td>HOURLY</td>\n",
       "      <td>Princeton, NJ</td>\n",
       "      <td>2774458.0</td>\n",
       "      <td>20.0</td>\n",
       "      <td>NaN</td>\n",
       "      <td>17.0</td>\n",
       "      <td>Full-time</td>\n",
       "      <td>2.0</td>\n",
       "      <td>1.713400e+12</td>\n",
       "      <td>NaN</td>\n",
       "      <td>https://www.linkedin.com/jobs/view/921716/?trk...</td>\n",
       "      <td>NaN</td>\n",
       "      <td>ComplexOnsiteApply</td>\n",
       "      <td>1.715990e+12</td>\n",
       "      <td>NaN</td>\n",
       "      <td>NaN</td>\n",
       "      <td>Requirements: \\n\\nWe are seeking a College or ...</td>\n",
       "      <td>1.713400e+12</td>\n",
       "      <td>NaN</td>\n",
       "      <td>0</td>\n",
       "      <td>FULL_TIME</td>\n",
       "      <td>USD</td>\n",
       "      <td>BASE_SALARY</td>\n",
       "      <td>38480.0</td>\n",
       "      <td>8540.0</td>\n",
       "      <td>34021.0</td>\n",
       "    </tr>\n",
       "    <tr>\n",
       "      <th>1</th>\n",
       "      <td>1829192</td>\n",
       "      <td>NaN</td>\n",
       "      <td>Mental Health Therapist/Counselor</td>\n",
       "      <td>At Aspen Therapy and Wellness , we are committ...</td>\n",
       "      <td>50.0</td>\n",
       "      <td>HOURLY</td>\n",
       "      <td>Fort Collins, CO</td>\n",
       "      <td>NaN</td>\n",
       "      <td>1.0</td>\n",
       "      <td>NaN</td>\n",
       "      <td>30.0</td>\n",
       "      <td>Full-time</td>\n",
       "      <td>NaN</td>\n",
       "      <td>1.712860e+12</td>\n",
       "      <td>NaN</td>\n",
       "      <td>https://www.linkedin.com/jobs/view/1829192/?tr...</td>\n",
       "      <td>NaN</td>\n",
       "      <td>ComplexOnsiteApply</td>\n",
       "      <td>1.715450e+12</td>\n",
       "      <td>NaN</td>\n",
       "      <td>NaN</td>\n",
       "      <td>NaN</td>\n",
       "      <td>1.712860e+12</td>\n",
       "      <td>NaN</td>\n",
       "      <td>0</td>\n",
       "      <td>FULL_TIME</td>\n",
       "      <td>USD</td>\n",
       "      <td>BASE_SALARY</td>\n",
       "      <td>83200.0</td>\n",
       "      <td>80521.0</td>\n",
       "      <td>8069.0</td>\n",
       "    </tr>\n",
       "    <tr>\n",
       "      <th>2</th>\n",
       "      <td>10998357</td>\n",
       "      <td>The National Exemplar</td>\n",
       "      <td>Assitant Restaurant Manager</td>\n",
       "      <td>The National Exemplar is accepting application...</td>\n",
       "      <td>65000.0</td>\n",
       "      <td>YEARLY</td>\n",
       "      <td>Cincinnati, OH</td>\n",
       "      <td>64896719.0</td>\n",
       "      <td>8.0</td>\n",
       "      <td>NaN</td>\n",
       "      <td>45000.0</td>\n",
       "      <td>Full-time</td>\n",
       "      <td>NaN</td>\n",
       "      <td>1.713280e+12</td>\n",
       "      <td>NaN</td>\n",
       "      <td>https://www.linkedin.com/jobs/view/10998357/?t...</td>\n",
       "      <td>NaN</td>\n",
       "      <td>ComplexOnsiteApply</td>\n",
       "      <td>1.715870e+12</td>\n",
       "      <td>NaN</td>\n",
       "      <td>NaN</td>\n",
       "      <td>We are currently accepting resumes for FOH - A...</td>\n",
       "      <td>1.713280e+12</td>\n",
       "      <td>NaN</td>\n",
       "      <td>0</td>\n",
       "      <td>FULL_TIME</td>\n",
       "      <td>USD</td>\n",
       "      <td>BASE_SALARY</td>\n",
       "      <td>55000.0</td>\n",
       "      <td>45202.0</td>\n",
       "      <td>39061.0</td>\n",
       "    </tr>\n",
       "    <tr>\n",
       "      <th>3</th>\n",
       "      <td>23221523</td>\n",
       "      <td>Abrams Fensterman, LLP</td>\n",
       "      <td>Senior Elder Law / Trusts and Estates Associat...</td>\n",
       "      <td>Senior Associate Attorney - Elder Law / Trusts...</td>\n",
       "      <td>175000.0</td>\n",
       "      <td>YEARLY</td>\n",
       "      <td>New Hyde Park, NY</td>\n",
       "      <td>766262.0</td>\n",
       "      <td>16.0</td>\n",
       "      <td>NaN</td>\n",
       "      <td>140000.0</td>\n",
       "      <td>Full-time</td>\n",
       "      <td>NaN</td>\n",
       "      <td>1.712900e+12</td>\n",
       "      <td>NaN</td>\n",
       "      <td>https://www.linkedin.com/jobs/view/23221523/?t...</td>\n",
       "      <td>NaN</td>\n",
       "      <td>ComplexOnsiteApply</td>\n",
       "      <td>1.715490e+12</td>\n",
       "      <td>NaN</td>\n",
       "      <td>NaN</td>\n",
       "      <td>This position requires a baseline understandin...</td>\n",
       "      <td>1.712900e+12</td>\n",
       "      <td>NaN</td>\n",
       "      <td>0</td>\n",
       "      <td>FULL_TIME</td>\n",
       "      <td>USD</td>\n",
       "      <td>BASE_SALARY</td>\n",
       "      <td>157500.0</td>\n",
       "      <td>11040.0</td>\n",
       "      <td>36059.0</td>\n",
       "    </tr>\n",
       "    <tr>\n",
       "      <th>4</th>\n",
       "      <td>35982263</td>\n",
       "      <td>NaN</td>\n",
       "      <td>Service Technician</td>\n",
       "      <td>Looking for HVAC service tech with experience ...</td>\n",
       "      <td>80000.0</td>\n",
       "      <td>YEARLY</td>\n",
       "      <td>Burlington, IA</td>\n",
       "      <td>NaN</td>\n",
       "      <td>3.0</td>\n",
       "      <td>NaN</td>\n",
       "      <td>60000.0</td>\n",
       "      <td>Full-time</td>\n",
       "      <td>NaN</td>\n",
       "      <td>1.713450e+12</td>\n",
       "      <td>NaN</td>\n",
       "      <td>https://www.linkedin.com/jobs/view/35982263/?t...</td>\n",
       "      <td>NaN</td>\n",
       "      <td>ComplexOnsiteApply</td>\n",
       "      <td>1.716040e+12</td>\n",
       "      <td>NaN</td>\n",
       "      <td>NaN</td>\n",
       "      <td>NaN</td>\n",
       "      <td>1.713450e+12</td>\n",
       "      <td>NaN</td>\n",
       "      <td>0</td>\n",
       "      <td>FULL_TIME</td>\n",
       "      <td>USD</td>\n",
       "      <td>BASE_SALARY</td>\n",
       "      <td>70000.0</td>\n",
       "      <td>52601.0</td>\n",
       "      <td>19057.0</td>\n",
       "    </tr>\n",
       "  </tbody>\n",
       "</table>\n",
       "</div>"
      ],
      "text/plain": [
       "     job_id            company_name  \\\n",
       "0    921716   Corcoran Sawyer Smith   \n",
       "1   1829192                     NaN   \n",
       "2  10998357  The National Exemplar    \n",
       "3  23221523  Abrams Fensterman, LLP   \n",
       "4  35982263                     NaN   \n",
       "\n",
       "                                               title  \\\n",
       "0                              Marketing Coordinator   \n",
       "1                  Mental Health Therapist/Counselor   \n",
       "2                        Assitant Restaurant Manager   \n",
       "3  Senior Elder Law / Trusts and Estates Associat...   \n",
       "4                                 Service Technician   \n",
       "\n",
       "                                         description  max_salary pay_period  \\\n",
       "0  Job descriptionA leading real estate firm in N...        20.0     HOURLY   \n",
       "1  At Aspen Therapy and Wellness , we are committ...        50.0     HOURLY   \n",
       "2  The National Exemplar is accepting application...     65000.0     YEARLY   \n",
       "3  Senior Associate Attorney - Elder Law / Trusts...    175000.0     YEARLY   \n",
       "4  Looking for HVAC service tech with experience ...     80000.0     YEARLY   \n",
       "\n",
       "            location  company_id  views  med_salary  min_salary  \\\n",
       "0      Princeton, NJ   2774458.0   20.0         NaN        17.0   \n",
       "1   Fort Collins, CO         NaN    1.0         NaN        30.0   \n",
       "2     Cincinnati, OH  64896719.0    8.0         NaN     45000.0   \n",
       "3  New Hyde Park, NY    766262.0   16.0         NaN    140000.0   \n",
       "4     Burlington, IA         NaN    3.0         NaN     60000.0   \n",
       "\n",
       "  formatted_work_type  applies  original_listed_time  remote_allowed  \\\n",
       "0           Full-time      2.0          1.713400e+12             NaN   \n",
       "1           Full-time      NaN          1.712860e+12             NaN   \n",
       "2           Full-time      NaN          1.713280e+12             NaN   \n",
       "3           Full-time      NaN          1.712900e+12             NaN   \n",
       "4           Full-time      NaN          1.713450e+12             NaN   \n",
       "\n",
       "                                     job_posting_url application_url  \\\n",
       "0  https://www.linkedin.com/jobs/view/921716/?trk...             NaN   \n",
       "1  https://www.linkedin.com/jobs/view/1829192/?tr...             NaN   \n",
       "2  https://www.linkedin.com/jobs/view/10998357/?t...             NaN   \n",
       "3  https://www.linkedin.com/jobs/view/23221523/?t...             NaN   \n",
       "4  https://www.linkedin.com/jobs/view/35982263/?t...             NaN   \n",
       "\n",
       "     application_type        expiry  closed_time formatted_experience_level  \\\n",
       "0  ComplexOnsiteApply  1.715990e+12          NaN                        NaN   \n",
       "1  ComplexOnsiteApply  1.715450e+12          NaN                        NaN   \n",
       "2  ComplexOnsiteApply  1.715870e+12          NaN                        NaN   \n",
       "3  ComplexOnsiteApply  1.715490e+12          NaN                        NaN   \n",
       "4  ComplexOnsiteApply  1.716040e+12          NaN                        NaN   \n",
       "\n",
       "                                         skills_desc   listed_time  \\\n",
       "0  Requirements: \\n\\nWe are seeking a College or ...  1.713400e+12   \n",
       "1                                                NaN  1.712860e+12   \n",
       "2  We are currently accepting resumes for FOH - A...  1.713280e+12   \n",
       "3  This position requires a baseline understandin...  1.712900e+12   \n",
       "4                                                NaN  1.713450e+12   \n",
       "\n",
       "  posting_domain  sponsored  work_type currency compensation_type  \\\n",
       "0            NaN          0  FULL_TIME      USD       BASE_SALARY   \n",
       "1            NaN          0  FULL_TIME      USD       BASE_SALARY   \n",
       "2            NaN          0  FULL_TIME      USD       BASE_SALARY   \n",
       "3            NaN          0  FULL_TIME      USD       BASE_SALARY   \n",
       "4            NaN          0  FULL_TIME      USD       BASE_SALARY   \n",
       "\n",
       "   normalized_salary  zip_code     fips  \n",
       "0            38480.0    8540.0  34021.0  \n",
       "1            83200.0   80521.0   8069.0  \n",
       "2            55000.0   45202.0  39061.0  \n",
       "3           157500.0   11040.0  36059.0  \n",
       "4            70000.0   52601.0  19057.0  "
      ]
     },
     "execution_count": 3,
     "metadata": {},
     "output_type": "execute_result"
    }
   ],
   "source": [
    "df = pd.read_csv('linkdin_job_posting.csv')\n",
    "\n",
    "# Display the first few rows to understand the structu\n",
    "df.head()"
   ]
  },
  {
   "cell_type": "code",
   "execution_count": 4,
   "id": "28a6e6b4-b81b-4b56-a1d9-8e917a4c8980",
   "metadata": {
    "tags": []
   },
   "outputs": [
    {
     "name": "stdout",
     "output_type": "stream",
     "text": [
      "<class 'pandas.core.frame.DataFrame'>\n",
      "RangeIndex: 123849 entries, 0 to 123848\n",
      "Data columns (total 31 columns):\n",
      " #   Column                      Non-Null Count   Dtype  \n",
      "---  ------                      --------------   -----  \n",
      " 0   job_id                      123849 non-null  int64  \n",
      " 1   company_name                122130 non-null  object \n",
      " 2   title                       123849 non-null  object \n",
      " 3   description                 123842 non-null  object \n",
      " 4   max_salary                  29793 non-null   float64\n",
      " 5   pay_period                  36073 non-null   object \n",
      " 6   location                    123849 non-null  object \n",
      " 7   company_id                  122132 non-null  float64\n",
      " 8   views                       122160 non-null  float64\n",
      " 9   med_salary                  6280 non-null    float64\n",
      " 10  min_salary                  29793 non-null   float64\n",
      " 11  formatted_work_type         123849 non-null  object \n",
      " 12  applies                     23320 non-null   float64\n",
      " 13  original_listed_time        123849 non-null  float64\n",
      " 14  remote_allowed              15246 non-null   float64\n",
      " 15  job_posting_url             123849 non-null  object \n",
      " 16  application_url             87184 non-null   object \n",
      " 17  application_type            123849 non-null  object \n",
      " 18  expiry                      123849 non-null  float64\n",
      " 19  closed_time                 1073 non-null    float64\n",
      " 20  formatted_experience_level  94440 non-null   object \n",
      " 21  skills_desc                 2439 non-null    object \n",
      " 22  listed_time                 123849 non-null  float64\n",
      " 23  posting_domain              83881 non-null   object \n",
      " 24  sponsored                   123849 non-null  int64  \n",
      " 25  work_type                   123849 non-null  object \n",
      " 26  currency                    36073 non-null   object \n",
      " 27  compensation_type           36073 non-null   object \n",
      " 28  normalized_salary           36073 non-null   float64\n",
      " 29  zip_code                    102977 non-null  float64\n",
      " 30  fips                        96434 non-null   float64\n",
      "dtypes: float64(14), int64(2), object(15)\n",
      "memory usage: 29.3+ MB\n"
     ]
    }
   ],
   "source": [
    "df.info()"
   ]
  },
  {
   "cell_type": "code",
   "execution_count": 5,
   "id": "c8eb6999-40f4-42a3-9b3a-4acab7360292",
   "metadata": {
    "tags": []
   },
   "outputs": [
    {
     "data": {
      "text/html": [
       "<div>\n",
       "<style scoped>\n",
       "    .dataframe tbody tr th:only-of-type {\n",
       "        vertical-align: middle;\n",
       "    }\n",
       "\n",
       "    .dataframe tbody tr th {\n",
       "        vertical-align: top;\n",
       "    }\n",
       "\n",
       "    .dataframe thead th {\n",
       "        text-align: right;\n",
       "    }\n",
       "</style>\n",
       "<table border=\"1\" class=\"dataframe\">\n",
       "  <thead>\n",
       "    <tr style=\"text-align: right;\">\n",
       "      <th></th>\n",
       "      <th>title</th>\n",
       "      <th>views</th>\n",
       "      <th>applies</th>\n",
       "    </tr>\n",
       "  </thead>\n",
       "  <tbody>\n",
       "    <tr>\n",
       "      <th>0</th>\n",
       "      <td>Marketing Coordinator</td>\n",
       "      <td>20.0</td>\n",
       "      <td>2.0</td>\n",
       "    </tr>\n",
       "    <tr>\n",
       "      <th>5</th>\n",
       "      <td>Economic Development and Planning Intern</td>\n",
       "      <td>9.0</td>\n",
       "      <td>4.0</td>\n",
       "    </tr>\n",
       "    <tr>\n",
       "      <th>6</th>\n",
       "      <td>Producer</td>\n",
       "      <td>7.0</td>\n",
       "      <td>1.0</td>\n",
       "    </tr>\n",
       "    <tr>\n",
       "      <th>10</th>\n",
       "      <td>Inside Customer Service Associate</td>\n",
       "      <td>4.0</td>\n",
       "      <td>1.0</td>\n",
       "    </tr>\n",
       "    <tr>\n",
       "      <th>18</th>\n",
       "      <td>Content Writer, Communications</td>\n",
       "      <td>10.0</td>\n",
       "      <td>1.0</td>\n",
       "    </tr>\n",
       "  </tbody>\n",
       "</table>\n",
       "</div>"
      ],
      "text/plain": [
       "                                       title  views  applies\n",
       "0                      Marketing Coordinator   20.0      2.0\n",
       "5   Economic Development and Planning Intern    9.0      4.0\n",
       "6                                   Producer    7.0      1.0\n",
       "10         Inside Customer Service Associate    4.0      1.0\n",
       "18            Content Writer, Communications   10.0      1.0"
      ]
     },
     "execution_count": 5,
     "metadata": {},
     "output_type": "execute_result"
    }
   ],
   "source": [
    "# Selecting relevant columns for the recommendation task\n",
    "relevant_columns = ['title', 'views', 'applies']\n",
    "\n",
    "# Dropping rows with missing values in the relevant columns\n",
    "cleaned_data = df[relevant_columns].dropna()\n",
    "\n",
    "# Display the cleaned dataset to confirm\n",
    "cleaned_data.head()"
   ]
  },
  {
   "cell_type": "code",
   "execution_count": 6,
   "id": "0f947cff-0a5b-4f2f-b832-3585a392a0e2",
   "metadata": {
    "tags": []
   },
   "outputs": [
    {
     "data": {
      "text/plain": [
       "(23319, 3)"
      ]
     },
     "execution_count": 6,
     "metadata": {},
     "output_type": "execute_result"
    }
   ],
   "source": [
    "cleaned_data.shape"
   ]
  },
  {
   "cell_type": "code",
   "execution_count": 7,
   "id": "5e5e53bf-1c7f-4ba2-93f8-9adcb1c95573",
   "metadata": {
    "tags": []
   },
   "outputs": [],
   "source": [
    "# For simplicity, we'll simulate 1000 unique users\n",
    "np.random.seed(42)  # For reproducibility\n",
    "num_users = 1000\n",
    "user_ids = np.random.randint(1, num_users + 1, size=len(cleaned_data))"
   ]
  },
  {
   "cell_type": "code",
   "execution_count": 8,
   "id": "0e6cdacf-4088-4b60-bf02-1e2e60e6dcd4",
   "metadata": {
    "tags": []
   },
   "outputs": [],
   "source": [
    "# Add the simulated User_ID to the dataset\n",
    "cleaned_data['User_ID'] = user_ids"
   ]
  },
  {
   "cell_type": "code",
   "execution_count": 9,
   "id": "b644d845-e441-4158-81ac-77aebd6b4ace",
   "metadata": {
    "tags": []
   },
   "outputs": [],
   "source": [
    "#Fill missing values in 'applies' or 'views' with 0 (representing no interaction)\n",
    "cleaned_data['applies'].fillna(0, inplace=True)\n",
    "cleaned_data['views'].fillna(0, inplace=True)"
   ]
  },
  {
   "cell_type": "code",
   "execution_count": 10,
   "id": "af41de30-5ae3-4fac-be37-82714bbd0879",
   "metadata": {
    "tags": []
   },
   "outputs": [],
   "source": [
    "#Decide which interaction to use (we'll use 'applies' for this example)\n",
    "cleaned_data['interaction'] = cleaned_data['applies']"
   ]
  },
  {
   "cell_type": "code",
   "execution_count": 11,
   "id": "fb712aa1-dd18-480e-8dba-7a801d975542",
   "metadata": {
    "tags": []
   },
   "outputs": [
    {
     "data": {
      "text/html": [
       "<div>\n",
       "<style scoped>\n",
       "    .dataframe tbody tr th:only-of-type {\n",
       "        vertical-align: middle;\n",
       "    }\n",
       "\n",
       "    .dataframe tbody tr th {\n",
       "        vertical-align: top;\n",
       "    }\n",
       "\n",
       "    .dataframe thead th {\n",
       "        text-align: right;\n",
       "    }\n",
       "</style>\n",
       "<table border=\"1\" class=\"dataframe\">\n",
       "  <thead>\n",
       "    <tr style=\"text-align: right;\">\n",
       "      <th></th>\n",
       "      <th>title</th>\n",
       "      <th>views</th>\n",
       "      <th>applies</th>\n",
       "      <th>User_ID</th>\n",
       "      <th>interaction</th>\n",
       "    </tr>\n",
       "  </thead>\n",
       "  <tbody>\n",
       "    <tr>\n",
       "      <th>0</th>\n",
       "      <td>Marketing Coordinator</td>\n",
       "      <td>20.0</td>\n",
       "      <td>2.0</td>\n",
       "      <td>103</td>\n",
       "      <td>2.0</td>\n",
       "    </tr>\n",
       "    <tr>\n",
       "      <th>5</th>\n",
       "      <td>Economic Development and Planning Intern</td>\n",
       "      <td>9.0</td>\n",
       "      <td>4.0</td>\n",
       "      <td>436</td>\n",
       "      <td>4.0</td>\n",
       "    </tr>\n",
       "    <tr>\n",
       "      <th>6</th>\n",
       "      <td>Producer</td>\n",
       "      <td>7.0</td>\n",
       "      <td>1.0</td>\n",
       "      <td>861</td>\n",
       "      <td>1.0</td>\n",
       "    </tr>\n",
       "    <tr>\n",
       "      <th>10</th>\n",
       "      <td>Inside Customer Service Associate</td>\n",
       "      <td>4.0</td>\n",
       "      <td>1.0</td>\n",
       "      <td>271</td>\n",
       "      <td>1.0</td>\n",
       "    </tr>\n",
       "    <tr>\n",
       "      <th>18</th>\n",
       "      <td>Content Writer, Communications</td>\n",
       "      <td>10.0</td>\n",
       "      <td>1.0</td>\n",
       "      <td>107</td>\n",
       "      <td>1.0</td>\n",
       "    </tr>\n",
       "  </tbody>\n",
       "</table>\n",
       "</div>"
      ],
      "text/plain": [
       "                                       title  views  applies  User_ID  \\\n",
       "0                      Marketing Coordinator   20.0      2.0      103   \n",
       "5   Economic Development and Planning Intern    9.0      4.0      436   \n",
       "6                                   Producer    7.0      1.0      861   \n",
       "10         Inside Customer Service Associate    4.0      1.0      271   \n",
       "18            Content Writer, Communications   10.0      1.0      107   \n",
       "\n",
       "    interaction  \n",
       "0           2.0  \n",
       "5           4.0  \n",
       "6           1.0  \n",
       "10          1.0  \n",
       "18          1.0  "
      ]
     },
     "execution_count": 11,
     "metadata": {},
     "output_type": "execute_result"
    }
   ],
   "source": [
    "# Drop rows where interaction data is missing or 0 (optional step based on model needs)\n",
    "cleaned_data = cleaned_data[cleaned_data['interaction'] > 0]\n",
    "cleaned_data.head()"
   ]
  },
  {
   "cell_type": "code",
   "execution_count": 12,
   "id": "cc6a1e81-8aba-43f8-825d-08f292767c51",
   "metadata": {
    "tags": []
   },
   "outputs": [
    {
     "data": {
      "text/html": [
       "<div>\n",
       "<style scoped>\n",
       "    .dataframe tbody tr th:only-of-type {\n",
       "        vertical-align: middle;\n",
       "    }\n",
       "\n",
       "    .dataframe tbody tr th {\n",
       "        vertical-align: top;\n",
       "    }\n",
       "\n",
       "    .dataframe thead th {\n",
       "        text-align: right;\n",
       "    }\n",
       "</style>\n",
       "<table border=\"1\" class=\"dataframe\">\n",
       "  <thead>\n",
       "    <tr style=\"text-align: right;\">\n",
       "      <th></th>\n",
       "      <th>User_ID</th>\n",
       "      <th>title</th>\n",
       "      <th>interaction</th>\n",
       "    </tr>\n",
       "  </thead>\n",
       "  <tbody>\n",
       "    <tr>\n",
       "      <th>0</th>\n",
       "      <td>103</td>\n",
       "      <td>Marketing Coordinator</td>\n",
       "      <td>2.0</td>\n",
       "    </tr>\n",
       "    <tr>\n",
       "      <th>5</th>\n",
       "      <td>436</td>\n",
       "      <td>Economic Development and Planning Intern</td>\n",
       "      <td>4.0</td>\n",
       "    </tr>\n",
       "    <tr>\n",
       "      <th>6</th>\n",
       "      <td>861</td>\n",
       "      <td>Producer</td>\n",
       "      <td>1.0</td>\n",
       "    </tr>\n",
       "    <tr>\n",
       "      <th>10</th>\n",
       "      <td>271</td>\n",
       "      <td>Inside Customer Service Associate</td>\n",
       "      <td>1.0</td>\n",
       "    </tr>\n",
       "    <tr>\n",
       "      <th>18</th>\n",
       "      <td>107</td>\n",
       "      <td>Content Writer, Communications</td>\n",
       "      <td>1.0</td>\n",
       "    </tr>\n",
       "  </tbody>\n",
       "</table>\n",
       "</div>"
      ],
      "text/plain": [
       "    User_ID                                     title  interaction\n",
       "0       103                     Marketing Coordinator          2.0\n",
       "5       436  Economic Development and Planning Intern          4.0\n",
       "6       861                                  Producer          1.0\n",
       "10      271         Inside Customer Service Associate          1.0\n",
       "18      107            Content Writer, Communications          1.0"
      ]
     },
     "execution_count": 12,
     "metadata": {},
     "output_type": "execute_result"
    }
   ],
   "source": [
    "# Final dataset ready for SVD training\n",
    "cleaned_data = cleaned_data[['User_ID', 'title', 'interaction']]\n",
    "\n",
    "cleaned_data.head()"
   ]
  },
  {
   "cell_type": "code",
   "execution_count": 13,
   "id": "e8342d75-6bb6-4eb3-ad86-992a69e47390",
   "metadata": {
    "tags": []
   },
   "outputs": [],
   "source": [
    "# Save the cleaned dataset (optional, if you want to save the preprocessed data)\n",
    "cleaned_data.to_csv('cleaned_job_posting_for_svd_use_title.csv', index=False)"
   ]
  },
  {
   "cell_type": "markdown",
   "id": "2b819838-d2f4-4edd-8769-7fe00ff97cd4",
   "metadata": {},
   "source": [
    "**Model Training**"
   ]
  },
  {
   "cell_type": "code",
   "execution_count": 14,
   "id": "9e3ff641-47ae-4d5f-a9d7-bb4f8e16e4e9",
   "metadata": {
    "tags": []
   },
   "outputs": [
    {
     "name": "stdout",
     "output_type": "stream",
     "text": [
      "1.0 967.0\n"
     ]
    }
   ],
   "source": [
    "# Check the range of 'applies' to determine the correct rating scale\n",
    "print(cleaned_data['interaction'].min(), cleaned_data['interaction'].max())\n"
   ]
  },
  {
   "cell_type": "code",
   "execution_count": 15,
   "id": "ad4b54a9-054f-4865-ae27-3848d8ba6714",
   "metadata": {
    "tags": []
   },
   "outputs": [],
   "source": [
    "# Step 1: Prepare the data for SVD in Surprise format\n",
    "reader = Reader(rating_scale=(1, 967))  # Assuming the rating scale ranges from 1 to 10\n",
    "data = Dataset.load_from_df(cleaned_data[['User_ID', 'title', 'interaction']], reader)"
   ]
  },
  {
   "cell_type": "code",
   "execution_count": 16,
   "id": "87bfbc55-822e-4888-a197-0e204d98a574",
   "metadata": {
    "tags": []
   },
   "outputs": [],
   "source": [
    "# Step 2: Split the dataset into training and testing sets\n",
    "trainset, testset = train_test_split(data, test_size=0.2)"
   ]
  },
  {
   "cell_type": "code",
   "execution_count": 17,
   "id": "57fce29b-5703-4264-b5cb-e22153085428",
   "metadata": {
    "tags": []
   },
   "outputs": [
    {
     "data": {
      "text/plain": [
       "<surprise.prediction_algorithms.matrix_factorization.SVD at 0x7f369b72ed10>"
      ]
     },
     "execution_count": 17,
     "metadata": {},
     "output_type": "execute_result"
    }
   ],
   "source": [
    "# Step 3: Train the SVD model\n",
    "model = SVD()\n",
    "model.fit(trainset)"
   ]
  },
  {
   "cell_type": "code",
   "execution_count": 18,
   "id": "1f5fe5c8-4754-4645-98e8-38500fbc6c0d",
   "metadata": {
    "tags": []
   },
   "outputs": [
    {
     "name": "stdout",
     "output_type": "stream",
     "text": [
      "RMSE: 956.8663\n"
     ]
    },
    {
     "data": {
      "text/plain": [
       "956.8663014518415"
      ]
     },
     "execution_count": 18,
     "metadata": {},
     "output_type": "execute_result"
    }
   ],
   "source": [
    "# Step 4: Evaluate the model on the test set using RMSE (optional)\n",
    "predictions = model.test(testset)\n",
    "accuracy.rmse(predictions)"
   ]
  },
  {
   "cell_type": "code",
   "execution_count": 19,
   "id": "a704bb8a-0407-4b77-be5f-ef2166904876",
   "metadata": {
    "tags": []
   },
   "outputs": [
    {
     "name": "stdout",
     "output_type": "stream",
     "text": [
      "RMSE: 956.8663\n",
      "RMSE: 956.8663014518415\n",
      "MAE: 956.000264025602\n",
      "MSE: 915593.1188541264\n",
      "R²: -1338.1434774053548\n"
     ]
    }
   ],
   "source": [
    "from sklearn.metrics import mean_squared_error, mean_absolute_error, r2_score\n",
    "\n",
    "\n",
    "# Extract the true ratings and predicted ratings\n",
    "true_ratings = [pred.r_ui for pred in predictions]  # Actual ratings\n",
    "predicted_ratings = [pred.est for pred in predictions]  # Predicted ratings\n",
    "\n",
    "# Mean Absolute Error (MAE)\n",
    "mae = mean_absolute_error(true_ratings, predicted_ratings)\n",
    "\n",
    "# Mean Squared Error (MSE)\n",
    "mse = mean_squared_error(true_ratings, predicted_ratings)\n",
    "\n",
    "# R-squared (R²)\n",
    "r2 = r2_score(true_ratings, predicted_ratings)\n",
    "\n",
    "# RMSE\n",
    "rmse = accuracy.rmse(predictions)\n",
    "\n",
    "# Print the evaluation metrics\n",
    "print(f\"RMSE: {rmse}\")\n",
    "print(f\"MAE: {mae}\")\n",
    "print(f\"MSE: {mse}\")\n",
    "print(f\"R²: {r2}\")"
   ]
  },
  {
   "cell_type": "markdown",
   "id": "ad92958d-abc8-4c08-a139-88b1348a5b4b",
   "metadata": {},
   "source": [
    "I will run hyperparameter optimization"
   ]
  },
  {
   "cell_type": "code",
   "execution_count": 20,
   "id": "82092e60-564b-4b91-9c74-e4916bf92ad1",
   "metadata": {
    "tags": []
   },
   "outputs": [
    {
     "name": "stdout",
     "output_type": "stream",
     "text": [
      "Collecting optuna\n",
      "  Using cached optuna-4.0.0-py3-none-any.whl.metadata (16 kB)\n",
      "Collecting alembic>=1.5.0 (from optuna)\n",
      "  Using cached alembic-1.13.3-py3-none-any.whl.metadata (7.4 kB)\n",
      "Collecting colorlog (from optuna)\n",
      "  Using cached colorlog-6.8.2-py3-none-any.whl.metadata (10 kB)\n",
      "Requirement already satisfied: numpy in /opt/conda/lib/python3.10/site-packages (from optuna) (1.25.2)\n",
      "Requirement already satisfied: packaging>=20.0 in /opt/conda/lib/python3.10/site-packages (from optuna) (24.1)\n",
      "Requirement already satisfied: sqlalchemy>=1.3.0 in /opt/conda/lib/python3.10/site-packages (from optuna) (2.0.35)\n",
      "Requirement already satisfied: tqdm in /opt/conda/lib/python3.10/site-packages (from optuna) (4.66.5)\n",
      "Requirement already satisfied: PyYAML in /opt/conda/lib/python3.10/site-packages (from optuna) (6.0.2)\n",
      "Collecting Mako (from alembic>=1.5.0->optuna)\n",
      "  Using cached Mako-1.3.5-py3-none-any.whl.metadata (2.9 kB)\n",
      "Requirement already satisfied: typing-extensions>=4 in /opt/conda/lib/python3.10/site-packages (from alembic>=1.5.0->optuna) (4.12.2)\n",
      "Requirement already satisfied: greenlet!=0.4.17 in /opt/conda/lib/python3.10/site-packages (from sqlalchemy>=1.3.0->optuna) (3.1.1)\n",
      "Requirement already satisfied: MarkupSafe>=0.9.2 in /opt/conda/lib/python3.10/site-packages (from Mako->alembic>=1.5.0->optuna) (2.1.5)\n",
      "Using cached optuna-4.0.0-py3-none-any.whl (362 kB)\n",
      "Using cached alembic-1.13.3-py3-none-any.whl (233 kB)\n",
      "Using cached colorlog-6.8.2-py3-none-any.whl (11 kB)\n",
      "Using cached Mako-1.3.5-py3-none-any.whl (78 kB)\n",
      "Installing collected packages: Mako, colorlog, alembic, optuna\n",
      "Successfully installed Mako-1.3.5 alembic-1.13.3 colorlog-6.8.2 optuna-4.0.0\n",
      "Note: you may need to restart the kernel to use updated packages.\n"
     ]
    }
   ],
   "source": [
    "pip install optuna"
   ]
  },
  {
   "cell_type": "code",
   "execution_count": 21,
   "id": "10f0f56a-a128-4126-b9c0-d04e03bf5bac",
   "metadata": {
    "tags": []
   },
   "outputs": [
    {
     "name": "stderr",
     "output_type": "stream",
     "text": [
      "[I 2024-10-20 08:12:16,912] A new study created in memory with name: no-name-d0fcb084-5a64-4a19-914a-a9bd681ac694\n",
      "[I 2024-10-20 08:12:22,574] Trial 0 finished with value: 956.8277692552526 and parameters: {'n_factors': 189, 'n_epochs': 40, 'lr_all': 0.017126665373013876, 'reg_all': 0.053699161003071566}. Best is trial 0 with value: 956.8277692552526.\n",
      "[I 2024-10-20 08:12:26,412] Trial 1 finished with value: 956.6644504512208 and parameters: {'n_factors': 120, 'n_epochs': 34, 'lr_all': 0.02559372105183414, 'reg_all': 0.02581447008128872}. Best is trial 1 with value: 956.6644504512208.\n",
      "[I 2024-10-20 08:12:30,166] Trial 2 finished with value: 956.6406811692947 and parameters: {'n_factors': 138, 'n_epochs': 30, 'lr_all': 0.015349887120419965, 'reg_all': 0.09754759255065265}. Best is trial 2 with value: 956.6406811692947.\n",
      "[I 2024-10-20 08:12:32,105] Trial 3 finished with value: 956.7655550095333 and parameters: {'n_factors': 144, 'n_epochs': 11, 'lr_all': 0.017158725798386853, 'reg_all': 0.05982610921652679}. Best is trial 2 with value: 956.6406811692947.\n",
      "[I 2024-10-20 08:12:38,648] Trial 4 finished with value: 956.7238359400724 and parameters: {'n_factors': 178, 'n_epochs': 50, 'lr_all': 0.04850037422603734, 'reg_all': 0.06946623139658174}. Best is trial 2 with value: 956.6406811692947.\n",
      "[I 2024-10-20 08:12:44,461] Trial 5 finished with value: 956.7654124069377 and parameters: {'n_factors': 155, 'n_epochs': 47, 'lr_all': 0.04262038949155277, 'reg_all': 0.03590559345733482}. Best is trial 2 with value: 956.6406811692947.\n",
      "[I 2024-10-20 08:12:46,023] Trial 6 finished with value: 956.6820413740643 and parameters: {'n_factors': 20, 'n_epochs': 27, 'lr_all': 0.039383740007523975, 'reg_all': 0.0214692869784643}. Best is trial 2 with value: 956.6406811692947.\n",
      "[I 2024-10-20 08:12:48,183] Trial 7 finished with value: 956.8067699510472 and parameters: {'n_factors': 81, 'n_epochs': 20, 'lr_all': 0.029117976117066433, 'reg_all': 0.038266713701430664}. Best is trial 2 with value: 956.6406811692947.\n",
      "[I 2024-10-20 08:12:50,879] Trial 8 finished with value: 956.8073253778184 and parameters: {'n_factors': 86, 'n_epochs': 26, 'lr_all': 0.0130133167424266, 'reg_all': 0.029868500782653414}. Best is trial 2 with value: 956.6406811692947.\n",
      "[I 2024-10-20 08:12:53,887] Trial 9 finished with value: 956.6615280727035 and parameters: {'n_factors': 59, 'n_epochs': 37, 'lr_all': 0.021058903970376828, 'reg_all': 0.011729035642866651}. Best is trial 2 with value: 956.6406811692947.\n",
      "[I 2024-10-20 08:12:55,521] Trial 10 finished with value: 696.9464339096486 and parameters: {'n_factors': 115, 'n_epochs': 9, 'lr_all': 0.0023248796504375512, 'reg_all': 0.09880700625406871}. Best is trial 10 with value: 696.9464339096486.\n",
      "[I 2024-10-20 08:12:56,987] Trial 11 finished with value: 28.78466982145258 and parameters: {'n_factors': 122, 'n_epochs': 7, 'lr_all': 0.002017418539876407, 'reg_all': 0.09964899375216757}. Best is trial 11 with value: 28.78466982145258.\n",
      "[I 2024-10-20 08:12:58,218] Trial 12 finished with value: 28.694303255544252 and parameters: {'n_factors': 107, 'n_epochs': 5, 'lr_all': 0.0010943593629028428, 'reg_all': 0.09786479098478425}. Best is trial 12 with value: 28.694303255544252.\n",
      "[I 2024-10-20 08:12:59,187] Trial 13 finished with value: 28.85378204471167 and parameters: {'n_factors': 49, 'n_epochs': 5, 'lr_all': 0.001127787389403282, 'reg_all': 0.07971912160880387}. Best is trial 12 with value: 28.694303255544252.\n",
      "[I 2024-10-20 08:13:01,115] Trial 14 finished with value: 956.7022698554016 and parameters: {'n_factors': 101, 'n_epochs': 14, 'lr_all': 0.006066563426693473, 'reg_all': 0.08164751057967919}. Best is trial 12 with value: 28.694303255544252.\n",
      "[I 2024-10-20 08:13:04,148] Trial 15 finished with value: 956.7713692455878 and parameters: {'n_factors': 160, 'n_epochs': 19, 'lr_all': 0.009750690018426383, 'reg_all': 0.08554101181466418}. Best is trial 12 with value: 28.694303255544252.\n",
      "[I 2024-10-20 08:13:05,457] Trial 16 finished with value: 956.6841164765486 and parameters: {'n_factors': 124, 'n_epochs': 5, 'lr_all': 0.007679753655462577, 'reg_all': 0.06930853032638752}. Best is trial 12 with value: 28.694303255544252.\n",
      "[I 2024-10-20 08:13:07,572] Trial 17 finished with value: 956.5564494506762 and parameters: {'n_factors': 93, 'n_epochs': 17, 'lr_all': 0.03483360976944573, 'reg_all': 0.09419796357260254}. Best is trial 12 with value: 28.694303255544252.\n",
      "[I 2024-10-20 08:13:09,001] Trial 18 finished with value: 956.5773824001396 and parameters: {'n_factors': 62, 'n_epochs': 11, 'lr_all': 0.004768090604918, 'reg_all': 0.07088593780229915}. Best is trial 12 with value: 28.694303255544252.\n",
      "[I 2024-10-20 08:13:10,528] Trial 19 finished with value: 956.7470194371524 and parameters: {'n_factors': 15, 'n_epochs': 23, 'lr_all': 0.013031412007027152, 'reg_all': 0.08689737163846899}. Best is trial 12 with value: 28.694303255544252.\n",
      "[I 2024-10-20 08:13:12,179] Trial 20 finished with value: 956.848587039425 and parameters: {'n_factors': 130, 'n_epochs': 8, 'lr_all': 0.02104983834474195, 'reg_all': 0.0035732613868304716}. Best is trial 12 with value: 28.694303255544252.\n",
      "[I 2024-10-20 08:13:13,189] Trial 21 finished with value: 956.8484992219726 and parameters: {'n_factors': 51, 'n_epochs': 5, 'lr_all': 0.004904199348746056, 'reg_all': 0.07874428973171613}. Best is trial 12 with value: 28.694303255544252.\n",
      "[I 2024-10-20 08:13:14,637] Trial 22 finished with value: 29.026606893390216 and parameters: {'n_factors': 38, 'n_epochs': 14, 'lr_all': 0.001050894445570277, 'reg_all': 0.09130068329182028}. Best is trial 12 with value: 28.694303255544252.\n",
      "[I 2024-10-20 08:13:15,730] Trial 23 finished with value: 956.8068103119607 and parameters: {'n_factors': 69, 'n_epochs': 5, 'lr_all': 0.010048695751459646, 'reg_all': 0.0783020669937558}. Best is trial 12 with value: 28.694303255544252.\n",
      "[I 2024-10-20 08:13:17,747] Trial 24 finished with value: 28.92935780247193 and parameters: {'n_factors': 106, 'n_epochs': 14, 'lr_all': 0.0020806962656176537, 'reg_all': 0.09979932141700333}. Best is trial 12 with value: 28.694303255544252.\n",
      "[I 2024-10-20 08:13:18,886] Trial 25 finished with value: 956.5007798447447 and parameters: {'n_factors': 32, 'n_epochs': 9, 'lr_all': 0.009162707122111046, 'reg_all': 0.08872491580498441}. Best is trial 12 with value: 28.694303255544252.\n",
      "[I 2024-10-20 08:13:20,902] Trial 26 finished with value: 956.5993182768068 and parameters: {'n_factors': 84, 'n_epochs': 16, 'lr_all': 0.004134632151145523, 'reg_all': 0.061815063824950355}. Best is trial 12 with value: 28.694303255544252.\n",
      "[I 2024-10-20 08:13:22,636] Trial 27 finished with value: 956.6406369457673 and parameters: {'n_factors': 101, 'n_epochs': 11, 'lr_all': 0.012051551083857156, 'reg_all': 0.04610138492908761}. Best is trial 12 with value: 28.694303255544252.\n",
      "[I 2024-10-20 08:13:24,322] Trial 28 finished with value: 956.7858668230965 and parameters: {'n_factors': 156, 'n_epochs': 7, 'lr_all': 0.00717771389055272, 'reg_all': 0.07566452587579878}. Best is trial 12 with value: 28.694303255544252.\n",
      "[I 2024-10-20 08:13:28,119] Trial 29 finished with value: 956.7233449717653 and parameters: {'n_factors': 194, 'n_epochs': 23, 'lr_all': 0.018559658173823747, 'reg_all': 0.05153332667985108}. Best is trial 12 with value: 28.694303255544252.\n",
      "[I 2024-10-20 08:13:30,349] Trial 30 finished with value: 956.5825384672187 and parameters: {'n_factors': 178, 'n_epochs': 11, 'lr_all': 0.03013471488592253, 'reg_all': 0.09137903581832989}. Best is trial 12 with value: 28.694303255544252.\n",
      "[I 2024-10-20 08:13:32,425] Trial 31 finished with value: 29.001112440616158 and parameters: {'n_factors': 112, 'n_epochs': 14, 'lr_all': 0.001546226797926477, 'reg_all': 0.09884226504876892}. Best is trial 12 with value: 28.694303255544252.\n",
      "[I 2024-10-20 08:13:33,831] Trial 32 finished with value: 28.82345877115099 and parameters: {'n_factors': 104, 'n_epochs': 7, 'lr_all': 0.0011254411084376454, 'reg_all': 0.09974277713507304}. Best is trial 12 with value: 28.694303255544252.\n",
      "[I 2024-10-20 08:13:35,388] Trial 33 finished with value: 956.8276704508128 and parameters: {'n_factors': 135, 'n_epochs': 7, 'lr_all': 0.00552715022396337, 'reg_all': 0.08427486597108032}. Best is trial 12 with value: 28.694303255544252.\n",
      "[I 2024-10-20 08:13:38,433] Trial 34 finished with value: 29.053866447905925 and parameters: {'n_factors': 71, 'n_epochs': 33, 'lr_all': 0.001002030241479348, 'reg_all': 0.09305195451542045}. Best is trial 12 with value: 28.694303255544252.\n",
      "[I 2024-10-20 08:13:39,741] Trial 35 finished with value: 956.5783981131981 and parameters: {'n_factors': 122, 'n_epochs': 5, 'lr_all': 0.007447667362530522, 'reg_all': 0.09448642649753845}. Best is trial 12 with value: 28.694303255544252.\n",
      "[I 2024-10-20 08:13:41,638] Trial 36 finished with value: 956.4528665878457 and parameters: {'n_factors': 146, 'n_epochs': 10, 'lr_all': 0.015650616551800806, 'reg_all': 0.08812530402273266}. Best is trial 12 with value: 28.694303255544252.\n",
      "[I 2024-10-20 08:13:44,535] Trial 37 finished with value: 956.5167992979807 and parameters: {'n_factors': 44, 'n_epochs': 41, 'lr_all': 0.003818391446141958, 'reg_all': 0.05765983512570762}. Best is trial 12 with value: 28.694303255544252.\n",
      "[I 2024-10-20 08:13:46,263] Trial 38 finished with value: 956.6408271882368 and parameters: {'n_factors': 171, 'n_epochs': 7, 'lr_all': 0.010967397622971409, 'reg_all': 0.07165296058491753}. Best is trial 12 with value: 28.694303255544252.\n",
      "[I 2024-10-20 08:13:48,046] Trial 39 finished with value: 956.6606233927421 and parameters: {'n_factors': 94, 'n_epochs': 13, 'lr_all': 0.045239087606445585, 'reg_all': 0.08209328736684174}. Best is trial 12 with value: 28.694303255544252.\n",
      "[I 2024-10-20 08:13:49,493] Trial 40 finished with value: 956.5773731442293 and parameters: {'n_factors': 29, 'n_epochs': 18, 'lr_all': 0.026460270099881673, 'reg_all': 0.06548904021531403}. Best is trial 12 with value: 28.694303255544252.\n",
      "[I 2024-10-20 08:13:50,975] Trial 41 finished with value: 942.783233119342 and parameters: {'n_factors': 109, 'n_epochs': 8, 'lr_all': 0.0034217691657848865, 'reg_all': 0.0992113790611609}. Best is trial 12 with value: 28.694303255544252.\n",
      "[I 2024-10-20 08:13:53,012] Trial 42 finished with value: 956.7235470666585 and parameters: {'n_factors': 128, 'n_epochs': 12, 'lr_all': 0.0033404933721168863, 'reg_all': 0.0996201611923448}. Best is trial 12 with value: 28.694303255544252.\n",
      "[I 2024-10-20 08:13:54,709] Trial 43 finished with value: 956.415599030099 and parameters: {'n_factors': 139, 'n_epochs': 7, 'lr_all': 0.007466801449790303, 'reg_all': 0.09431681440725792}. Best is trial 12 with value: 28.694303255544252.\n",
      "[I 2024-10-20 08:13:56,321] Trial 44 finished with value: 771.1438573180279 and parameters: {'n_factors': 105, 'n_epochs': 9, 'lr_all': 0.0027046328843668144, 'reg_all': 0.09533485985096646}. Best is trial 12 with value: 28.694303255544252.\n",
      "[I 2024-10-20 08:13:58,187] Trial 45 finished with value: 956.6427583041104 and parameters: {'n_factors': 75, 'n_epochs': 15, 'lr_all': 0.006156787337234379, 'reg_all': 0.08903904143637915}. Best is trial 12 with value: 28.694303255544252.\n",
      "[I 2024-10-20 08:13:59,502] Trial 46 finished with value: 28.91207706680628 and parameters: {'n_factors': 117, 'n_epochs': 5, 'lr_all': 0.0014194837214339024, 'reg_all': 0.07566655381305896}. Best is trial 12 with value: 28.694303255544252.\n",
      "[I 2024-10-20 08:14:00,926] Trial 47 finished with value: 956.6700944425253 and parameters: {'n_factors': 148, 'n_epochs': 5, 'lr_all': 0.008854798010119944, 'reg_all': 0.07924515046372185}. Best is trial 12 with value: 28.694303255544252.\n",
      "[I 2024-10-20 08:14:04,236] Trial 48 finished with value: 956.4333476544758 and parameters: {'n_factors': 94, 'n_epochs': 31, 'lr_all': 0.013947945586119377, 'reg_all': 0.043454456531441796}. Best is trial 12 with value: 28.694303255544252.\n",
      "[I 2024-10-20 08:14:09,249] Trial 49 finished with value: 956.5293457617943 and parameters: {'n_factors': 118, 'n_epochs': 46, 'lr_all': 0.036050656831053726, 'reg_all': 0.07416034350806647}. Best is trial 12 with value: 28.694303255544252.\n",
      "[I 2024-10-20 08:14:11,989] Trial 50 finished with value: 956.7025886544674 and parameters: {'n_factors': 118, 'n_epochs': 21, 'lr_all': 0.00525683814405768, 'reg_all': 0.055755472329340985}. Best is trial 12 with value: 28.694303255544252.\n",
      "[I 2024-10-20 08:14:13,579] Trial 51 finished with value: 28.9141661992791 and parameters: {'n_factors': 92, 'n_epochs': 10, 'lr_all': 0.0010391119699417208, 'reg_all': 0.08332638217106324}. Best is trial 12 with value: 28.694303255544252.\n",
      "[I 2024-10-20 08:14:14,915] Trial 52 finished with value: 799.7386641035307 and parameters: {'n_factors': 92, 'n_epochs': 7, 'lr_all': 0.003114465436037414, 'reg_all': 0.08374091948563395}. Best is trial 12 with value: 28.694303255544252.\n",
      "[I 2024-10-20 08:14:16,755] Trial 53 finished with value: 28.798308831482917 and parameters: {'n_factors': 133, 'n_epochs': 10, 'lr_all': 0.0012496211288716326, 'reg_all': 0.06689260674117581}. Best is trial 12 with value: 28.694303255544252.\n",
      "[I 2024-10-20 08:14:18,214] Trial 54 finished with value: 956.8485540767975 and parameters: {'n_factors': 134, 'n_epochs': 6, 'lr_all': 0.006416067579800774, 'reg_all': 0.06787678693931322}. Best is trial 12 with value: 28.694303255544252.\n",
      "[I 2024-10-20 08:14:20,481] Trial 55 finished with value: 956.6835893189716 and parameters: {'n_factors': 166, 'n_epochs': 12, 'lr_all': 0.004384344768622438, 'reg_all': 0.06331387763441174}. Best is trial 12 with value: 28.694303255544252.\n",
      "[I 2024-10-20 08:14:22,194] Trial 56 finished with value: 956.7243818522936 and parameters: {'n_factors': 127, 'n_epochs': 9, 'lr_all': 0.008936073263777856, 'reg_all': 0.075375416629238}. Best is trial 12 with value: 28.694303255544252.\n",
      "[I 2024-10-20 08:14:23,594] Trial 57 finished with value: 28.753788789001554 and parameters: {'n_factors': 142, 'n_epochs': 5, 'lr_all': 0.0026853855641335777, 'reg_all': 0.020084674313806998}. Best is trial 12 with value: 28.694303255544252.\n",
      "[I 2024-10-20 08:14:25,388] Trial 58 finished with value: 956.76633397037 and parameters: {'n_factors': 142, 'n_epochs': 9, 'lr_all': 0.049659916398840834, 'reg_all': 0.025382459644798887}. Best is trial 12 with value: 28.694303255544252.\n",
      "[I 2024-10-20 08:14:26,852] Trial 59 finished with value: 956.6196617211936 and parameters: {'n_factors': 57, 'n_epochs': 12, 'lr_all': 0.011411183953544565, 'reg_all': 0.018457861531312375}. Best is trial 12 with value: 28.694303255544252.\n",
      "[I 2024-10-20 08:14:28,643] Trial 60 finished with value: 956.6830235654401 and parameters: {'n_factors': 155, 'n_epochs': 8, 'lr_all': 0.005199562878240371, 'reg_all': 0.01039732401673124}. Best is trial 12 with value: 28.694303255544252.\n",
      "[I 2024-10-20 08:14:29,927] Trial 61 finished with value: 28.913353564063943 and parameters: {'n_factors': 115, 'n_epochs': 5, 'lr_all': 0.002596011989213439, 'reg_all': 0.03756631342558688}. Best is trial 12 with value: 28.694303255544252.\n",
      "[I 2024-10-20 08:14:31,479] Trial 62 finished with value: 28.957918717159856 and parameters: {'n_factors': 150, 'n_epochs': 6, 'lr_all': 0.0025420566364833218, 'reg_all': 0.08925923457927887}. Best is trial 12 with value: 28.694303255544252.\n",
      "[I 2024-10-20 08:14:33,276] Trial 63 finished with value: 28.72333348063348 and parameters: {'n_factors': 123, 'n_epochs': 10, 'lr_all': 0.0010740318900957931, 'reg_all': 0.03048842664823003}. Best is trial 12 with value: 28.694303255544252.\n",
      "[I 2024-10-20 08:14:35,114] Trial 64 finished with value: 956.682508584285 and parameters: {'n_factors': 133, 'n_epochs': 10, 'lr_all': 0.004550196932735567, 'reg_all': 0.02909682184086142}. Best is trial 12 with value: 28.694303255544252.\n",
      "[I 2024-10-20 08:14:36,706] Trial 65 finished with value: 956.8484670621194 and parameters: {'n_factors': 123, 'n_epochs': 8, 'lr_all': 0.008375950230582706, 'reg_all': 0.033973912432683114}. Best is trial 12 with value: 28.694303255544252.\n",
      "[I 2024-10-20 08:14:39,867] Trial 66 finished with value: 956.4959346583361 and parameters: {'n_factors': 102, 'n_epochs': 28, 'lr_all': 0.0062045871193602, 'reg_all': 0.013870753038130672}. Best is trial 12 with value: 28.694303255544252.\n",
      "[I 2024-10-20 08:14:42,349] Trial 67 finished with value: 28.827548442478758 and parameters: {'n_factors': 140, 'n_epochs': 16, 'lr_all': 0.0012285428190854895, 'reg_all': 0.018714717659776222}. Best is trial 12 with value: 28.694303255544252.\n",
      "[I 2024-10-20 08:14:44,541] Trial 68 finished with value: 956.7445564793661 and parameters: {'n_factors': 142, 'n_epochs': 13, 'lr_all': 0.0037722064038669895, 'reg_all': 0.02211392942414413}. Best is trial 12 with value: 28.694303255544252.\n",
      "[I 2024-10-20 08:14:47,218] Trial 69 finished with value: 399.6016460880188 and parameters: {'n_factors': 163, 'n_epochs': 16, 'lr_all': 0.002257875410167377, 'reg_all': 0.017302237853454375}. Best is trial 12 with value: 28.694303255544252.\n",
      "[I 2024-10-20 08:14:49,020] Trial 70 finished with value: 956.7044938275018 and parameters: {'n_factors': 110, 'n_epochs': 11, 'lr_all': 0.01885205155450149, 'reg_all': 0.00889397718665373}. Best is trial 12 with value: 28.694303255544252.\n",
      "[I 2024-10-20 08:14:50,473] Trial 71 finished with value: 28.844229208383297 and parameters: {'n_factors': 129, 'n_epochs': 6, 'lr_all': 0.0011556127209690422, 'reg_all': 0.02383613953337601}. Best is trial 12 with value: 28.694303255544252.\n",
      "[I 2024-10-20 08:14:51,899] Trial 72 finished with value: 28.997610562351525 and parameters: {'n_factors': 127, 'n_epochs': 6, 'lr_all': 0.002552401051660976, 'reg_all': 0.023508351890123694}. Best is trial 12 with value: 28.694303255544252.\n",
      "[I 2024-10-20 08:14:53,775] Trial 73 finished with value: 956.6001705068959 and parameters: {'n_factors': 133, 'n_epochs': 10, 'lr_all': 0.004411102516027678, 'reg_all': 0.028399827629732165}. Best is trial 12 with value: 28.694303255544252.\n",
      "[I 2024-10-20 08:14:55,530] Trial 74 finished with value: 956.7344527509497 and parameters: {'n_factors': 152, 'n_epochs': 8, 'lr_all': 0.006336880888134328, 'reg_all': 0.014193697252889763}. Best is trial 12 with value: 28.694303255544252.\n",
      "[I 2024-10-20 08:14:57,034] Trial 75 finished with value: 28.720817887060623 and parameters: {'n_factors': 122, 'n_epochs': 7, 'lr_all': 0.001139056535561288, 'reg_all': 0.03258806235351488}. Best is trial 12 with value: 28.694303255544252.\n",
      "[I 2024-10-20 08:14:59,103] Trial 76 finished with value: 956.6818928205533 and parameters: {'n_factors': 122, 'n_epochs': 13, 'lr_all': 0.0035621172542506154, 'reg_all': 0.033116954364302696}. Best is trial 12 with value: 28.694303255544252.\n",
      "[I 2024-10-20 08:15:01,685] Trial 77 finished with value: 956.7025644114659 and parameters: {'n_factors': 140, 'n_epochs': 17, 'lr_all': 0.023302227551606835, 'reg_all': 0.04526081104122648}. Best is trial 12 with value: 28.694303255544252.\n",
      "[I 2024-10-20 08:15:03,175] Trial 78 finished with value: 956.7859182639959 and parameters: {'n_factors': 111, 'n_epochs': 7, 'lr_all': 0.007638887557215445, 'reg_all': 0.040926765095473376}. Best is trial 12 with value: 28.694303255544252.\n",
      "[I 2024-10-20 08:15:06,174] Trial 79 finished with value: 956.7446437637998 and parameters: {'n_factors': 104, 'n_epochs': 25, 'lr_all': 0.01001091533920764, 'reg_all': 0.00587817561831218}. Best is trial 12 with value: 28.694303255544252.\n",
      "[I 2024-10-20 08:15:07,810] Trial 80 finished with value: 29.04725000722275 and parameters: {'n_factors': 98, 'n_epochs': 10, 'lr_all': 0.0019731877953959543, 'reg_all': 0.050101662902319176}. Best is trial 12 with value: 28.694303255544252.\n",
      "[I 2024-10-20 08:15:09,289] Trial 81 finished with value: 28.68198496478479 and parameters: {'n_factors': 130, 'n_epochs': 6, 'lr_all': 0.0011058014999946024, 'reg_all': 0.026351315219637125}. Best is trial 81 with value: 28.68198496478479.\n",
      "[I 2024-10-20 08:15:10,917] Trial 82 finished with value: 28.976149558687517 and parameters: {'n_factors': 124, 'n_epochs': 8, 'lr_all': 0.0011216469705989556, 'reg_all': 0.019491478080307555}. Best is trial 81 with value: 28.68198496478479.\n",
      "[I 2024-10-20 08:15:12,400] Trial 83 finished with value: 956.7443027035304 and parameters: {'n_factors': 137, 'n_epochs': 6, 'lr_all': 0.00486854577230071, 'reg_all': 0.03243571455881088}. Best is trial 81 with value: 28.68198496478479.\n",
      "[I 2024-10-20 08:15:14,224] Trial 84 finished with value: 772.5455735546424 and parameters: {'n_factors': 145, 'n_epochs': 9, 'lr_all': 0.0032789765168412784, 'reg_all': 0.026657462078112794}. Best is trial 81 with value: 28.68198496478479.\n",
      "[I 2024-10-20 08:15:15,694] Trial 85 finished with value: 186.92753420970308 and parameters: {'n_factors': 114, 'n_epochs': 7, 'lr_all': 0.002440090909863725, 'reg_all': 0.09673662024641269}. Best is trial 81 with value: 28.68198496478479.\n",
      "[I 2024-10-20 08:15:19,982] Trial 86 finished with value: 956.5585925905792 and parameters: {'n_factors': 119, 'n_epochs': 38, 'lr_all': 0.00569995653463152, 'reg_all': 0.030942198526313844}. Best is trial 81 with value: 28.68198496478479.\n",
      "[I 2024-10-20 08:15:21,757] Trial 87 finished with value: 956.6821140731372 and parameters: {'n_factors': 108, 'n_epochs': 11, 'lr_all': 0.003963177284407761, 'reg_all': 0.020633344888825487}. Best is trial 81 with value: 28.68198496478479.\n",
      "[I 2024-10-20 08:15:23,155] Trial 88 finished with value: 28.958515780125246 and parameters: {'n_factors': 137, 'n_epochs': 5, 'lr_all': 0.0020612544835215928, 'reg_all': 0.015330869043166055}. Best is trial 81 with value: 28.68198496478479.\n",
      "[I 2024-10-20 08:15:25,079] Trial 89 finished with value: 956.7034093034459 and parameters: {'n_factors': 85, 'n_epochs': 15, 'lr_all': 0.007082107351697643, 'reg_all': 0.09715362745039731}. Best is trial 81 with value: 28.68198496478479.\n",
      "[I 2024-10-20 08:15:26,650] Trial 90 finished with value: 28.90786194848145 and parameters: {'n_factors': 99, 'n_epochs': 9, 'lr_all': 0.0010616816230874532, 'reg_all': 0.026983146314332965}. Best is trial 81 with value: 28.68198496478479.\n",
      "[I 2024-10-20 08:15:28,084] Trial 91 finished with value: 28.838092839438115 and parameters: {'n_factors': 130, 'n_epochs': 6, 'lr_all': 0.0010940076846607189, 'reg_all': 0.024265681889737628}. Best is trial 81 with value: 28.68198496478479.\n",
      "[I 2024-10-20 08:15:29,543] Trial 92 finished with value: 956.7457271611838 and parameters: {'n_factors': 131, 'n_epochs': 6, 'lr_all': 0.0034611807454449353, 'reg_all': 0.09226267998952517}. Best is trial 81 with value: 28.68198496478479.\n",
      "[I 2024-10-20 08:15:31,070] Trial 93 finished with value: 956.7235148133683 and parameters: {'n_factors': 126, 'n_epochs': 7, 'lr_all': 0.005181583495034727, 'reg_all': 0.01718122681138244}. Best is trial 81 with value: 28.68198496478479.\n",
      "[I 2024-10-20 08:15:32,546] Trial 94 finished with value: 28.959792081811337 and parameters: {'n_factors': 158, 'n_epochs': 5, 'lr_all': 0.0021915722289020468, 'reg_all': 0.034859633290206006}. Best is trial 81 with value: 28.68198496478479.\n",
      "[I 2024-10-20 08:15:34,494] Trial 95 finished with value: 28.880208907223185 and parameters: {'n_factors': 120, 'n_epochs': 12, 'lr_all': 0.001013116954464668, 'reg_all': 0.039840990246408164}. Best is trial 81 with value: 28.68198496478479.\n",
      "[I 2024-10-20 08:15:36,206] Trial 96 finished with value: 956.5600304513321 and parameters: {'n_factors': 144, 'n_epochs': 8, 'lr_all': 0.03176885927025478, 'reg_all': 0.024302500069186366}. Best is trial 81 with value: 28.68198496478479.\n",
      "[I 2024-10-20 08:15:38,048] Trial 97 finished with value: 956.7686311335376 and parameters: {'n_factors': 130, 'n_epochs': 10, 'lr_all': 0.004221650024414998, 'reg_all': 0.021711871103966832}. Best is trial 81 with value: 28.68198496478479.\n",
      "[I 2024-10-20 08:15:40,728] Trial 98 finished with value: 956.7063320631107 and parameters: {'n_factors': 113, 'n_epochs': 21, 'lr_all': 0.002985016442469255, 'reg_all': 0.030298763080378113}. Best is trial 81 with value: 28.68198496478479.\n",
      "[I 2024-10-20 08:15:42,290] Trial 99 finished with value: 956.6194609515238 and parameters: {'n_factors': 137, 'n_epochs': 7, 'lr_all': 0.0059573433237927464, 'reg_all': 0.037202759467941174}. Best is trial 81 with value: 28.68198496478479.\n"
     ]
    },
    {
     "name": "stdout",
     "output_type": "stream",
     "text": [
      "Best trial: {'n_factors': 130, 'n_epochs': 6, 'lr_all': 0.0011058014999946024, 'reg_all': 0.026351315219637125}\n",
      "Best RMSE: 28.68198496478479\n"
     ]
    }
   ],
   "source": [
    "import optuna\n",
    "from surprise import Dataset, Reader, SVD\n",
    "from surprise.model_selection import cross_validate\n",
    "from sklearn.metrics import mean_squared_error\n",
    "import pandas as pd\n",
    "\n",
    "# Prepare the data for Surprise\n",
    "reader = Reader(rating_scale=(1, 967))  # Assuming the rating scale ranges from 1 to 10\n",
    "data = Dataset.load_from_df(cleaned_data[['User_ID', 'title', 'interaction']], reader)\n",
    "\n",
    "# Split the data into trainset and testset (this will be done within the cross-validation)\n",
    "trainset = data.build_full_trainset()\n",
    "\n",
    "# Objective function for Optuna\n",
    "def objective(trial):\n",
    "    # Define hyperparameters to be tuned\n",
    "    param = {\n",
    "        'n_factors': trial.suggest_int('n_factors', 10, 200),  # Number of latent factors\n",
    "        'n_epochs': trial.suggest_int('n_epochs', 5, 50),  # Number of epochs\n",
    "        'lr_all': trial.suggest_float('lr_all', 0.001, 0.05),  # Learning rate for SGD\n",
    "        'reg_all': trial.suggest_float('reg_all', 0.001, 0.1)  # Regularization term\n",
    "    }\n",
    "\n",
    "    # Create the SVD model with the suggested hyperparameters\n",
    "    svd_model = SVD(**param)\n",
    "\n",
    "    # Perform cross-validation and return the RMSE score\n",
    "    results = cross_validate(svd_model, data, measures=['rmse'], cv=5, verbose=False)\n",
    "    \n",
    "    # Return the average RMSE score (minimizing this)\n",
    "    return np.mean(results['test_rmse'])\n",
    "\n",
    "# Enable the default logger of Optuna\n",
    "optuna.logging.enable_default_handler()\n",
    "\n",
    "# Set the logging level (for more detailed information)\n",
    "optuna.logging.set_verbosity(optuna.logging.INFO)\n",
    "\n",
    "# Create an Optuna study for minimizing the RMSE (Root Mean Squared Error)\n",
    "study = optuna.create_study(direction='minimize')\n",
    "\n",
    "# Perform optimization\n",
    "study.optimize(objective, n_trials=100)\n",
    "\n",
    "# Best hyperparameters\n",
    "print('Best trial:', study.best_trial.params)\n",
    "\n",
    "# Best RMSE value\n",
    "print('Best RMSE:', study.best_value)\n",
    "\n"
   ]
  },
  {
   "cell_type": "code",
   "execution_count": 22,
   "id": "2947abc4-1092-41ce-81a2-f1737a270605",
   "metadata": {
    "tags": []
   },
   "outputs": [
    {
     "name": "stdout",
     "output_type": "stream",
     "text": [
      "Best hyperparameters:  {'n_factors': 130, 'n_epochs': 6, 'lr_all': 0.0011058014999946024, 'reg_all': 0.026351315219637125}\n"
     ]
    }
   ],
   "source": [
    "best_params = study.best_trial.params\n",
    "print(\"Best hyperparameters: \", best_params)"
   ]
  },
  {
   "cell_type": "code",
   "execution_count": 23,
   "id": "e57d5681-fbc6-4a17-8dd4-681726f5c3ea",
   "metadata": {
    "tags": []
   },
   "outputs": [
    {
     "data": {
      "text/plain": [
       "<surprise.prediction_algorithms.matrix_factorization.SVD at 0x7f36950a2020>"
      ]
     },
     "execution_count": 23,
     "metadata": {},
     "output_type": "execute_result"
    }
   ],
   "source": [
    "# retrain the model with the tuned hyperparameters\n",
    "\n",
    "# Step 3: Train the SVD model\n",
    "model_tune = SVD(**best_params)\n",
    "model_tune.fit(trainset)"
   ]
  },
  {
   "cell_type": "code",
   "execution_count": 24,
   "id": "8954939a-a7d7-4158-862d-3a4de6a022b4",
   "metadata": {
    "tags": []
   },
   "outputs": [
    {
     "name": "stdout",
     "output_type": "stream",
     "text": [
      "RMSE: 21.8510\n"
     ]
    },
    {
     "data": {
      "text/plain": [
       "21.850985919614807"
      ]
     },
     "execution_count": 24,
     "metadata": {},
     "output_type": "execute_result"
    }
   ],
   "source": [
    "# Step 4: Evaluate the model on the test set using RMSE (optional)\n",
    "predictions = model_tune.test(testset)\n",
    "accuracy.rmse(predictions)"
   ]
  },
  {
   "cell_type": "code",
   "execution_count": 25,
   "id": "c620b04d-b388-4dfa-84ed-d77ce7a25f8f",
   "metadata": {
    "tags": []
   },
   "outputs": [
    {
     "name": "stdout",
     "output_type": "stream",
     "text": [
      "RMSE: 21.8510\n",
      "RMSE: 21.850985919614807\n",
      "MAE: 10.511682324075766\n",
      "MSE: 477.4655856592046\n",
      "R²: 0.3016604083686645\n"
     ]
    }
   ],
   "source": [
    "# Extract the true ratings and predicted ratings\n",
    "true_ratings = [pred.r_ui for pred in predictions]  # Actual ratings\n",
    "predicted_ratings = [pred.est for pred in predictions]  # Predicted ratings\n",
    "\n",
    "# Mean Absolute Error (MAE)\n",
    "mae = mean_absolute_error(true_ratings, predicted_ratings)\n",
    "\n",
    "# Mean Squared Error (MSE)\n",
    "mse = mean_squared_error(true_ratings, predicted_ratings)\n",
    "\n",
    "# R-squared (R²)\n",
    "r2 = r2_score(true_ratings, predicted_ratings)\n",
    "\n",
    "# RMSE\n",
    "rmse = accuracy.rmse(predictions)\n",
    "\n",
    "# Print the evaluation metrics\n",
    "print(f\"RMSE: {rmse}\")\n",
    "print(f\"MAE: {mae}\")\n",
    "print(f\"MSE: {mse}\")\n",
    "print(f\"R²: {r2}\")"
   ]
  },
  {
   "cell_type": "markdown",
   "id": "46b9ce30-10e0-4d6f-b6aa-58d6de3459e7",
   "metadata": {},
   "source": [
    "The hyperparameter tuning improved the model"
   ]
  },
  {
   "cell_type": "code",
   "execution_count": 26,
   "id": "1e67432c-85ef-43ee-9a2f-f46d9115926f",
   "metadata": {
    "tags": []
   },
   "outputs": [
    {
     "name": "stdout",
     "output_type": "stream",
     "text": [
      "Model saved as svd_model_job_use_title.joblib\n"
     ]
    }
   ],
   "source": [
    "# Step 5: Save the trained model using joblib for later use (e.g., deployment)\n",
    "\n",
    "import joblib\n",
    "model_filename = 'svd_model_job_use_title.joblib'\n",
    "joblib.dump(model_tune, model_filename)\n",
    "print(f\"Model saved as {model_filename}\")"
   ]
  },
  {
   "cell_type": "code",
   "execution_count": null,
   "id": "8623dc10-6a97-4e8c-9a36-51a76bf79c8e",
   "metadata": {},
   "outputs": [],
   "source": []
  }
 ],
 "metadata": {
  "kernelspec": {
   "display_name": "Python (Local)",
   "language": "python",
   "name": "base"
  },
  "language_info": {
   "codemirror_mode": {
    "name": "ipython",
    "version": 3
   },
   "file_extension": ".py",
   "mimetype": "text/x-python",
   "name": "python",
   "nbconvert_exporter": "python",
   "pygments_lexer": "ipython3",
   "version": "3.10.15"
  }
 },
 "nbformat": 4,
 "nbformat_minor": 5
}
