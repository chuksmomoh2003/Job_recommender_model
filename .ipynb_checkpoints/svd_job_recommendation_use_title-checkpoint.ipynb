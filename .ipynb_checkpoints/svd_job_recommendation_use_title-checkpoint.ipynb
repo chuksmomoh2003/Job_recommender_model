{
 "cells": [
  {
   "cell_type": "code",
   "execution_count": 1,
   "id": "6a455337-71a7-4660-ba10-ca4f6b191e34",
   "metadata": {
    "tags": []
   },
   "outputs": [
    {
     "name": "stdout",
     "output_type": "stream",
     "text": [
      "Collecting scikit-surprise\n",
      "  Using cached scikit_surprise-1.1.4-cp310-cp310-linux_x86_64.whl\n",
      "Requirement already satisfied: joblib>=1.2.0 in /opt/conda/lib/python3.10/site-packages (from scikit-surprise) (1.4.2)\n",
      "Requirement already satisfied: numpy>=1.19.5 in /opt/conda/lib/python3.10/site-packages (from scikit-surprise) (1.25.2)\n",
      "Requirement already satisfied: scipy>=1.6.0 in /opt/conda/lib/python3.10/site-packages (from scikit-surprise) (1.11.4)\n",
      "Installing collected packages: scikit-surprise\n",
      "Successfully installed scikit-surprise-1.1.4\n",
      "Note: you may need to restart the kernel to use updated packages.\n"
     ]
    }
   ],
   "source": [
    "pip install scikit-surprise"
   ]
  },
  {
   "cell_type": "code",
   "execution_count": 3,
   "id": "76d595fe-8ee6-4f00-85e4-b695aafef055",
   "metadata": {
    "tags": []
   },
   "outputs": [],
   "source": [
    "import pandas as pd\n",
    "import numpy as np\n",
    "from surprise import Dataset, Reader, SVD\n",
    "from surprise.model_selection import train_test_split\n",
    "from surprise import accuracy\n",
    "pd.set_option('display.max_rows', None)\n",
    "pd.set_option('display.max_columns', None)"
   ]
  },
  {
   "cell_type": "code",
   "execution_count": 5,
   "id": "7016f06b-bdbb-4d53-bc7c-7f2db6337d10",
   "metadata": {
    "tags": []
   },
   "outputs": [
    {
     "data": {
      "text/html": [
       "<div>\n",
       "<style scoped>\n",
       "    .dataframe tbody tr th:only-of-type {\n",
       "        vertical-align: middle;\n",
       "    }\n",
       "\n",
       "    .dataframe tbody tr th {\n",
       "        vertical-align: top;\n",
       "    }\n",
       "\n",
       "    .dataframe thead th {\n",
       "        text-align: right;\n",
       "    }\n",
       "</style>\n",
       "<table border=\"1\" class=\"dataframe\">\n",
       "  <thead>\n",
       "    <tr style=\"text-align: right;\">\n",
       "      <th></th>\n",
       "      <th>job_id</th>\n",
       "      <th>company_name</th>\n",
       "      <th>title</th>\n",
       "      <th>description</th>\n",
       "      <th>max_salary</th>\n",
       "      <th>pay_period</th>\n",
       "      <th>location</th>\n",
       "      <th>company_id</th>\n",
       "      <th>views</th>\n",
       "      <th>med_salary</th>\n",
       "      <th>min_salary</th>\n",
       "      <th>formatted_work_type</th>\n",
       "      <th>applies</th>\n",
       "      <th>original_listed_time</th>\n",
       "      <th>remote_allowed</th>\n",
       "      <th>job_posting_url</th>\n",
       "      <th>application_url</th>\n",
       "      <th>application_type</th>\n",
       "      <th>expiry</th>\n",
       "      <th>closed_time</th>\n",
       "      <th>formatted_experience_level</th>\n",
       "      <th>skills_desc</th>\n",
       "      <th>listed_time</th>\n",
       "      <th>posting_domain</th>\n",
       "      <th>sponsored</th>\n",
       "      <th>work_type</th>\n",
       "      <th>currency</th>\n",
       "      <th>compensation_type</th>\n",
       "      <th>normalized_salary</th>\n",
       "      <th>zip_code</th>\n",
       "      <th>fips</th>\n",
       "    </tr>\n",
       "  </thead>\n",
       "  <tbody>\n",
       "    <tr>\n",
       "      <th>0</th>\n",
       "      <td>921716</td>\n",
       "      <td>Corcoran Sawyer Smith</td>\n",
       "      <td>Marketing Coordinator</td>\n",
       "      <td>Job descriptionA leading real estate firm in N...</td>\n",
       "      <td>20.0</td>\n",
       "      <td>HOURLY</td>\n",
       "      <td>Princeton, NJ</td>\n",
       "      <td>2774458.0</td>\n",
       "      <td>20.0</td>\n",
       "      <td>NaN</td>\n",
       "      <td>17.0</td>\n",
       "      <td>Full-time</td>\n",
       "      <td>2.0</td>\n",
       "      <td>1.713400e+12</td>\n",
       "      <td>NaN</td>\n",
       "      <td>https://www.linkedin.com/jobs/view/921716/?trk...</td>\n",
       "      <td>NaN</td>\n",
       "      <td>ComplexOnsiteApply</td>\n",
       "      <td>1.715990e+12</td>\n",
       "      <td>NaN</td>\n",
       "      <td>NaN</td>\n",
       "      <td>Requirements: \\n\\nWe are seeking a College or ...</td>\n",
       "      <td>1.713400e+12</td>\n",
       "      <td>NaN</td>\n",
       "      <td>0</td>\n",
       "      <td>FULL_TIME</td>\n",
       "      <td>USD</td>\n",
       "      <td>BASE_SALARY</td>\n",
       "      <td>38480.0</td>\n",
       "      <td>8540.0</td>\n",
       "      <td>34021.0</td>\n",
       "    </tr>\n",
       "    <tr>\n",
       "      <th>1</th>\n",
       "      <td>1829192</td>\n",
       "      <td>NaN</td>\n",
       "      <td>Mental Health Therapist/Counselor</td>\n",
       "      <td>At Aspen Therapy and Wellness , we are committ...</td>\n",
       "      <td>50.0</td>\n",
       "      <td>HOURLY</td>\n",
       "      <td>Fort Collins, CO</td>\n",
       "      <td>NaN</td>\n",
       "      <td>1.0</td>\n",
       "      <td>NaN</td>\n",
       "      <td>30.0</td>\n",
       "      <td>Full-time</td>\n",
       "      <td>NaN</td>\n",
       "      <td>1.712860e+12</td>\n",
       "      <td>NaN</td>\n",
       "      <td>https://www.linkedin.com/jobs/view/1829192/?tr...</td>\n",
       "      <td>NaN</td>\n",
       "      <td>ComplexOnsiteApply</td>\n",
       "      <td>1.715450e+12</td>\n",
       "      <td>NaN</td>\n",
       "      <td>NaN</td>\n",
       "      <td>NaN</td>\n",
       "      <td>1.712860e+12</td>\n",
       "      <td>NaN</td>\n",
       "      <td>0</td>\n",
       "      <td>FULL_TIME</td>\n",
       "      <td>USD</td>\n",
       "      <td>BASE_SALARY</td>\n",
       "      <td>83200.0</td>\n",
       "      <td>80521.0</td>\n",
       "      <td>8069.0</td>\n",
       "    </tr>\n",
       "  </tbody>\n",
       "</table>\n",
       "</div>"
      ],
      "text/plain": [
       "    job_id           company_name                              title  \\\n",
       "0   921716  Corcoran Sawyer Smith              Marketing Coordinator   \n",
       "1  1829192                    NaN  Mental Health Therapist/Counselor   \n",
       "\n",
       "                                         description  max_salary pay_period  \\\n",
       "0  Job descriptionA leading real estate firm in N...        20.0     HOURLY   \n",
       "1  At Aspen Therapy and Wellness , we are committ...        50.0     HOURLY   \n",
       "\n",
       "           location  company_id  views  med_salary  min_salary  \\\n",
       "0     Princeton, NJ   2774458.0   20.0         NaN        17.0   \n",
       "1  Fort Collins, CO         NaN    1.0         NaN        30.0   \n",
       "\n",
       "  formatted_work_type  applies  original_listed_time  remote_allowed  \\\n",
       "0           Full-time      2.0          1.713400e+12             NaN   \n",
       "1           Full-time      NaN          1.712860e+12             NaN   \n",
       "\n",
       "                                     job_posting_url application_url  \\\n",
       "0  https://www.linkedin.com/jobs/view/921716/?trk...             NaN   \n",
       "1  https://www.linkedin.com/jobs/view/1829192/?tr...             NaN   \n",
       "\n",
       "     application_type        expiry  closed_time formatted_experience_level  \\\n",
       "0  ComplexOnsiteApply  1.715990e+12          NaN                        NaN   \n",
       "1  ComplexOnsiteApply  1.715450e+12          NaN                        NaN   \n",
       "\n",
       "                                         skills_desc   listed_time  \\\n",
       "0  Requirements: \\n\\nWe are seeking a College or ...  1.713400e+12   \n",
       "1                                                NaN  1.712860e+12   \n",
       "\n",
       "  posting_domain  sponsored  work_type currency compensation_type  \\\n",
       "0            NaN          0  FULL_TIME      USD       BASE_SALARY   \n",
       "1            NaN          0  FULL_TIME      USD       BASE_SALARY   \n",
       "\n",
       "   normalized_salary  zip_code     fips  \n",
       "0            38480.0    8540.0  34021.0  \n",
       "1            83200.0   80521.0   8069.0  "
      ]
     },
     "execution_count": 5,
     "metadata": {},
     "output_type": "execute_result"
    }
   ],
   "source": [
    "df = pd.read_csv('linkdin_job_posting.csv')\n",
    "\n",
    "# Display the first few rows to understand the structu\n",
    "df.head(2)"
   ]
  },
  {
   "cell_type": "code",
   "execution_count": 4,
   "id": "28a6e6b4-b81b-4b56-a1d9-8e917a4c8980",
   "metadata": {
    "tags": []
   },
   "outputs": [
    {
     "name": "stdout",
     "output_type": "stream",
     "text": [
      "<class 'pandas.core.frame.DataFrame'>\n",
      "RangeIndex: 123849 entries, 0 to 123848\n",
      "Data columns (total 31 columns):\n",
      " #   Column                      Non-Null Count   Dtype  \n",
      "---  ------                      --------------   -----  \n",
      " 0   job_id                      123849 non-null  int64  \n",
      " 1   company_name                122130 non-null  object \n",
      " 2   title                       123849 non-null  object \n",
      " 3   description                 123842 non-null  object \n",
      " 4   max_salary                  29793 non-null   float64\n",
      " 5   pay_period                  36073 non-null   object \n",
      " 6   location                    123849 non-null  object \n",
      " 7   company_id                  122132 non-null  float64\n",
      " 8   views                       122160 non-null  float64\n",
      " 9   med_salary                  6280 non-null    float64\n",
      " 10  min_salary                  29793 non-null   float64\n",
      " 11  formatted_work_type         123849 non-null  object \n",
      " 12  applies                     23320 non-null   float64\n",
      " 13  original_listed_time        123849 non-null  float64\n",
      " 14  remote_allowed              15246 non-null   float64\n",
      " 15  job_posting_url             123849 non-null  object \n",
      " 16  application_url             87184 non-null   object \n",
      " 17  application_type            123849 non-null  object \n",
      " 18  expiry                      123849 non-null  float64\n",
      " 19  closed_time                 1073 non-null    float64\n",
      " 20  formatted_experience_level  94440 non-null   object \n",
      " 21  skills_desc                 2439 non-null    object \n",
      " 22  listed_time                 123849 non-null  float64\n",
      " 23  posting_domain              83881 non-null   object \n",
      " 24  sponsored                   123849 non-null  int64  \n",
      " 25  work_type                   123849 non-null  object \n",
      " 26  currency                    36073 non-null   object \n",
      " 27  compensation_type           36073 non-null   object \n",
      " 28  normalized_salary           36073 non-null   float64\n",
      " 29  zip_code                    102977 non-null  float64\n",
      " 30  fips                        96434 non-null   float64\n",
      "dtypes: float64(14), int64(2), object(15)\n",
      "memory usage: 29.3+ MB\n"
     ]
    }
   ],
   "source": [
    "df.info()"
   ]
  },
  {
   "cell_type": "code",
   "execution_count": 6,
   "id": "c8eb6999-40f4-42a3-9b3a-4acab7360292",
   "metadata": {
    "tags": []
   },
   "outputs": [
    {
     "data": {
      "text/html": [
       "<div>\n",
       "<style scoped>\n",
       "    .dataframe tbody tr th:only-of-type {\n",
       "        vertical-align: middle;\n",
       "    }\n",
       "\n",
       "    .dataframe tbody tr th {\n",
       "        vertical-align: top;\n",
       "    }\n",
       "\n",
       "    .dataframe thead th {\n",
       "        text-align: right;\n",
       "    }\n",
       "</style>\n",
       "<table border=\"1\" class=\"dataframe\">\n",
       "  <thead>\n",
       "    <tr style=\"text-align: right;\">\n",
       "      <th></th>\n",
       "      <th>job_id</th>\n",
       "      <th>views</th>\n",
       "      <th>applies</th>\n",
       "    </tr>\n",
       "  </thead>\n",
       "  <tbody>\n",
       "    <tr>\n",
       "      <th>0</th>\n",
       "      <td>921716</td>\n",
       "      <td>20.0</td>\n",
       "      <td>2.0</td>\n",
       "    </tr>\n",
       "    <tr>\n",
       "      <th>5</th>\n",
       "      <td>91700727</td>\n",
       "      <td>9.0</td>\n",
       "      <td>4.0</td>\n",
       "    </tr>\n",
       "    <tr>\n",
       "      <th>6</th>\n",
       "      <td>103254301</td>\n",
       "      <td>7.0</td>\n",
       "      <td>1.0</td>\n",
       "    </tr>\n",
       "    <tr>\n",
       "      <th>10</th>\n",
       "      <td>9615617</td>\n",
       "      <td>4.0</td>\n",
       "      <td>1.0</td>\n",
       "    </tr>\n",
       "    <tr>\n",
       "      <th>18</th>\n",
       "      <td>111513530</td>\n",
       "      <td>10.0</td>\n",
       "      <td>1.0</td>\n",
       "    </tr>\n",
       "  </tbody>\n",
       "</table>\n",
       "</div>"
      ],
      "text/plain": [
       "       job_id  views  applies\n",
       "0      921716   20.0      2.0\n",
       "5    91700727    9.0      4.0\n",
       "6   103254301    7.0      1.0\n",
       "10    9615617    4.0      1.0\n",
       "18  111513530   10.0      1.0"
      ]
     },
     "execution_count": 6,
     "metadata": {},
     "output_type": "execute_result"
    }
   ],
   "source": [
    "# Selecting relevant columns for the recommendation task\n",
    "relevant_columns = ['job_id', 'views', 'applies']\n",
    "\n",
    "# Dropping rows with missing values in the relevant columns\n",
    "cleaned_data = df[relevant_columns].dropna()\n",
    "\n",
    "# Display the cleaned dataset to confirm\n",
    "cleaned_data.head()"
   ]
  },
  {
   "cell_type": "code",
   "execution_count": 7,
   "id": "0f947cff-0a5b-4f2f-b832-3585a392a0e2",
   "metadata": {
    "tags": []
   },
   "outputs": [
    {
     "data": {
      "text/plain": [
       "(23319, 3)"
      ]
     },
     "execution_count": 7,
     "metadata": {},
     "output_type": "execute_result"
    }
   ],
   "source": [
    "cleaned_data.shape"
   ]
  },
  {
   "cell_type": "code",
   "execution_count": 8,
   "id": "5e5e53bf-1c7f-4ba2-93f8-9adcb1c95573",
   "metadata": {
    "tags": []
   },
   "outputs": [],
   "source": [
    "# For simplicity, we'll simulate 1000 unique users\n",
    "np.random.seed(42)  # For reproducibility\n",
    "num_users = 1000\n",
    "user_ids = np.random.randint(1, num_users + 1, size=len(cleaned_data))"
   ]
  },
  {
   "cell_type": "code",
   "execution_count": 9,
   "id": "0e6cdacf-4088-4b60-bf02-1e2e60e6dcd4",
   "metadata": {
    "tags": []
   },
   "outputs": [],
   "source": [
    "# Add the simulated User_ID to the dataset\n",
    "cleaned_data['User_ID'] = user_ids"
   ]
  },
  {
   "cell_type": "code",
   "execution_count": 10,
   "id": "b644d845-e441-4158-81ac-77aebd6b4ace",
   "metadata": {
    "tags": []
   },
   "outputs": [],
   "source": [
    "#Fill missing values in 'applies' or 'views' with 0 (representing no interaction)\n",
    "cleaned_data['applies'].fillna(0, inplace=True)\n",
    "cleaned_data['views'].fillna(0, inplace=True)"
   ]
  },
  {
   "cell_type": "code",
   "execution_count": 11,
   "id": "af41de30-5ae3-4fac-be37-82714bbd0879",
   "metadata": {
    "tags": []
   },
   "outputs": [],
   "source": [
    "#Decide which interaction to use (we'll use 'applies' for this example)\n",
    "cleaned_data['interaction'] = cleaned_data['applies']"
   ]
  },
  {
   "cell_type": "code",
   "execution_count": 12,
   "id": "fb712aa1-dd18-480e-8dba-7a801d975542",
   "metadata": {
    "tags": []
   },
   "outputs": [
    {
     "data": {
      "text/html": [
       "<div>\n",
       "<style scoped>\n",
       "    .dataframe tbody tr th:only-of-type {\n",
       "        vertical-align: middle;\n",
       "    }\n",
       "\n",
       "    .dataframe tbody tr th {\n",
       "        vertical-align: top;\n",
       "    }\n",
       "\n",
       "    .dataframe thead th {\n",
       "        text-align: right;\n",
       "    }\n",
       "</style>\n",
       "<table border=\"1\" class=\"dataframe\">\n",
       "  <thead>\n",
       "    <tr style=\"text-align: right;\">\n",
       "      <th></th>\n",
       "      <th>job_id</th>\n",
       "      <th>views</th>\n",
       "      <th>applies</th>\n",
       "      <th>User_ID</th>\n",
       "      <th>interaction</th>\n",
       "    </tr>\n",
       "  </thead>\n",
       "  <tbody>\n",
       "    <tr>\n",
       "      <th>0</th>\n",
       "      <td>921716</td>\n",
       "      <td>20.0</td>\n",
       "      <td>2.0</td>\n",
       "      <td>103</td>\n",
       "      <td>2.0</td>\n",
       "    </tr>\n",
       "    <tr>\n",
       "      <th>5</th>\n",
       "      <td>91700727</td>\n",
       "      <td>9.0</td>\n",
       "      <td>4.0</td>\n",
       "      <td>436</td>\n",
       "      <td>4.0</td>\n",
       "    </tr>\n",
       "    <tr>\n",
       "      <th>6</th>\n",
       "      <td>103254301</td>\n",
       "      <td>7.0</td>\n",
       "      <td>1.0</td>\n",
       "      <td>861</td>\n",
       "      <td>1.0</td>\n",
       "    </tr>\n",
       "    <tr>\n",
       "      <th>10</th>\n",
       "      <td>9615617</td>\n",
       "      <td>4.0</td>\n",
       "      <td>1.0</td>\n",
       "      <td>271</td>\n",
       "      <td>1.0</td>\n",
       "    </tr>\n",
       "    <tr>\n",
       "      <th>18</th>\n",
       "      <td>111513530</td>\n",
       "      <td>10.0</td>\n",
       "      <td>1.0</td>\n",
       "      <td>107</td>\n",
       "      <td>1.0</td>\n",
       "    </tr>\n",
       "  </tbody>\n",
       "</table>\n",
       "</div>"
      ],
      "text/plain": [
       "       job_id  views  applies  User_ID  interaction\n",
       "0      921716   20.0      2.0      103          2.0\n",
       "5    91700727    9.0      4.0      436          4.0\n",
       "6   103254301    7.0      1.0      861          1.0\n",
       "10    9615617    4.0      1.0      271          1.0\n",
       "18  111513530   10.0      1.0      107          1.0"
      ]
     },
     "execution_count": 12,
     "metadata": {},
     "output_type": "execute_result"
    }
   ],
   "source": [
    "# Drop rows where interaction data is missing or 0 (optional step based on model needs)\n",
    "cleaned_data = cleaned_data[cleaned_data['interaction'] > 0]\n",
    "cleaned_data.head()"
   ]
  },
  {
   "cell_type": "code",
   "execution_count": 13,
   "id": "cc6a1e81-8aba-43f8-825d-08f292767c51",
   "metadata": {
    "tags": []
   },
   "outputs": [
    {
     "data": {
      "text/html": [
       "<div>\n",
       "<style scoped>\n",
       "    .dataframe tbody tr th:only-of-type {\n",
       "        vertical-align: middle;\n",
       "    }\n",
       "\n",
       "    .dataframe tbody tr th {\n",
       "        vertical-align: top;\n",
       "    }\n",
       "\n",
       "    .dataframe thead th {\n",
       "        text-align: right;\n",
       "    }\n",
       "</style>\n",
       "<table border=\"1\" class=\"dataframe\">\n",
       "  <thead>\n",
       "    <tr style=\"text-align: right;\">\n",
       "      <th></th>\n",
       "      <th>User_ID</th>\n",
       "      <th>job_id</th>\n",
       "      <th>interaction</th>\n",
       "    </tr>\n",
       "  </thead>\n",
       "  <tbody>\n",
       "    <tr>\n",
       "      <th>0</th>\n",
       "      <td>103</td>\n",
       "      <td>921716</td>\n",
       "      <td>2.0</td>\n",
       "    </tr>\n",
       "    <tr>\n",
       "      <th>5</th>\n",
       "      <td>436</td>\n",
       "      <td>91700727</td>\n",
       "      <td>4.0</td>\n",
       "    </tr>\n",
       "    <tr>\n",
       "      <th>6</th>\n",
       "      <td>861</td>\n",
       "      <td>103254301</td>\n",
       "      <td>1.0</td>\n",
       "    </tr>\n",
       "    <tr>\n",
       "      <th>10</th>\n",
       "      <td>271</td>\n",
       "      <td>9615617</td>\n",
       "      <td>1.0</td>\n",
       "    </tr>\n",
       "    <tr>\n",
       "      <th>18</th>\n",
       "      <td>107</td>\n",
       "      <td>111513530</td>\n",
       "      <td>1.0</td>\n",
       "    </tr>\n",
       "  </tbody>\n",
       "</table>\n",
       "</div>"
      ],
      "text/plain": [
       "    User_ID     job_id  interaction\n",
       "0       103     921716          2.0\n",
       "5       436   91700727          4.0\n",
       "6       861  103254301          1.0\n",
       "10      271    9615617          1.0\n",
       "18      107  111513530          1.0"
      ]
     },
     "execution_count": 13,
     "metadata": {},
     "output_type": "execute_result"
    }
   ],
   "source": [
    "# Final dataset ready for SVD training\n",
    "cleaned_data = cleaned_data[['User_ID', 'job_id', 'interaction']]\n",
    "\n",
    "cleaned_data.head()"
   ]
  },
  {
   "cell_type": "code",
   "execution_count": 14,
   "id": "e8342d75-6bb6-4eb3-ad86-992a69e47390",
   "metadata": {
    "tags": []
   },
   "outputs": [],
   "source": [
    "# Save the cleaned dataset (optional, if you want to save the preprocessed data)\n",
    "cleaned_data.to_csv('cleaned_job_posting_for_svd.csv', index=False)"
   ]
  },
  {
   "cell_type": "markdown",
   "id": "2b819838-d2f4-4edd-8769-7fe00ff97cd4",
   "metadata": {},
   "source": [
    "**Model Training**"
   ]
  },
  {
   "cell_type": "code",
   "execution_count": 16,
   "id": "9e3ff641-47ae-4d5f-a9d7-bb4f8e16e4e9",
   "metadata": {
    "tags": []
   },
   "outputs": [
    {
     "name": "stdout",
     "output_type": "stream",
     "text": [
      "1.0 967.0\n"
     ]
    }
   ],
   "source": [
    "# Check the range of 'applies' to determine the correct rating scale\n",
    "print(cleaned_data['interaction'].min(), cleaned_data['interaction'].max())\n"
   ]
  },
  {
   "cell_type": "code",
   "execution_count": 17,
   "id": "ad4b54a9-054f-4865-ae27-3848d8ba6714",
   "metadata": {
    "tags": []
   },
   "outputs": [],
   "source": [
    "# Step 1: Prepare the data for SVD in Surprise format\n",
    "reader = Reader(rating_scale=(1, 967))  # Assuming the rating scale ranges from 1 to 10\n",
    "data = Dataset.load_from_df(cleaned_data[['User_ID', 'job_id', 'interaction']], reader)"
   ]
  },
  {
   "cell_type": "code",
   "execution_count": 18,
   "id": "87bfbc55-822e-4888-a197-0e204d98a574",
   "metadata": {
    "tags": []
   },
   "outputs": [],
   "source": [
    "# Step 2: Split the dataset into training and testing sets\n",
    "trainset, testset = train_test_split(data, test_size=0.2)"
   ]
  },
  {
   "cell_type": "code",
   "execution_count": 19,
   "id": "57fce29b-5703-4264-b5cb-e22153085428",
   "metadata": {
    "tags": []
   },
   "outputs": [
    {
     "data": {
      "text/plain": [
       "<surprise.prediction_algorithms.matrix_factorization.SVD at 0x7fc42fbca110>"
      ]
     },
     "execution_count": 19,
     "metadata": {},
     "output_type": "execute_result"
    }
   ],
   "source": [
    "# Step 3: Train the SVD model\n",
    "model = SVD()\n",
    "model.fit(trainset)"
   ]
  },
  {
   "cell_type": "code",
   "execution_count": 20,
   "id": "1f5fe5c8-4754-4645-98e8-38500fbc6c0d",
   "metadata": {
    "tags": []
   },
   "outputs": [
    {
     "name": "stdout",
     "output_type": "stream",
     "text": [
      "RMSE: 117.3682\n"
     ]
    },
    {
     "data": {
      "text/plain": [
       "117.36822323038629"
      ]
     },
     "execution_count": 20,
     "metadata": {},
     "output_type": "execute_result"
    }
   ],
   "source": [
    "# Step 4: Evaluate the model on the test set using RMSE (optional)\n",
    "predictions = model.test(testset)\n",
    "accuracy.rmse(predictions)"
   ]
  },
  {
   "cell_type": "code",
   "execution_count": 21,
   "id": "a704bb8a-0407-4b77-be5f-ef2166904876",
   "metadata": {
    "tags": []
   },
   "outputs": [
    {
     "name": "stdout",
     "output_type": "stream",
     "text": [
      "RMSE: 117.3682\n",
      "RMSE: 117.36822323038629\n",
      "MAE: 25.05255164164069\n",
      "MSE: 13775.299824257789\n",
      "R²: -19.147708113014954\n"
     ]
    }
   ],
   "source": [
    "from sklearn.metrics import mean_squared_error, mean_absolute_error, r2_score\n",
    "\n",
    "\n",
    "# Extract the true ratings and predicted ratings\n",
    "true_ratings = [pred.r_ui for pred in predictions]  # Actual ratings\n",
    "predicted_ratings = [pred.est for pred in predictions]  # Predicted ratings\n",
    "\n",
    "# Mean Absolute Error (MAE)\n",
    "mae = mean_absolute_error(true_ratings, predicted_ratings)\n",
    "\n",
    "# Mean Squared Error (MSE)\n",
    "mse = mean_squared_error(true_ratings, predicted_ratings)\n",
    "\n",
    "# R-squared (R²)\n",
    "r2 = r2_score(true_ratings, predicted_ratings)\n",
    "\n",
    "# RMSE\n",
    "rmse = accuracy.rmse(predictions)\n",
    "\n",
    "# Print the evaluation metrics\n",
    "print(f\"RMSE: {rmse}\")\n",
    "print(f\"MAE: {mae}\")\n",
    "print(f\"MSE: {mse}\")\n",
    "print(f\"R²: {r2}\")"
   ]
  },
  {
   "cell_type": "markdown",
   "id": "ad92958d-abc8-4c08-a139-88b1348a5b4b",
   "metadata": {},
   "source": [
    "I will run hyperparameter optimization"
   ]
  },
  {
   "cell_type": "code",
   "execution_count": 22,
   "id": "82092e60-564b-4b91-9c74-e4916bf92ad1",
   "metadata": {
    "tags": []
   },
   "outputs": [
    {
     "name": "stdout",
     "output_type": "stream",
     "text": [
      "Collecting optuna\n",
      "  Using cached optuna-4.0.0-py3-none-any.whl.metadata (16 kB)\n",
      "Collecting alembic>=1.5.0 (from optuna)\n",
      "  Using cached alembic-1.13.3-py3-none-any.whl.metadata (7.4 kB)\n",
      "Collecting colorlog (from optuna)\n",
      "  Using cached colorlog-6.8.2-py3-none-any.whl.metadata (10 kB)\n",
      "Requirement already satisfied: numpy in /opt/conda/lib/python3.10/site-packages (from optuna) (1.25.2)\n",
      "Requirement already satisfied: packaging>=20.0 in /opt/conda/lib/python3.10/site-packages (from optuna) (24.1)\n",
      "Requirement already satisfied: sqlalchemy>=1.3.0 in /opt/conda/lib/python3.10/site-packages (from optuna) (2.0.35)\n",
      "Requirement already satisfied: tqdm in /opt/conda/lib/python3.10/site-packages (from optuna) (4.66.5)\n",
      "Requirement already satisfied: PyYAML in /opt/conda/lib/python3.10/site-packages (from optuna) (6.0.2)\n",
      "Collecting Mako (from alembic>=1.5.0->optuna)\n",
      "  Using cached Mako-1.3.5-py3-none-any.whl.metadata (2.9 kB)\n",
      "Requirement already satisfied: typing-extensions>=4 in /opt/conda/lib/python3.10/site-packages (from alembic>=1.5.0->optuna) (4.12.2)\n",
      "Requirement already satisfied: greenlet!=0.4.17 in /opt/conda/lib/python3.10/site-packages (from sqlalchemy>=1.3.0->optuna) (3.1.1)\n",
      "Requirement already satisfied: MarkupSafe>=0.9.2 in /opt/conda/lib/python3.10/site-packages (from Mako->alembic>=1.5.0->optuna) (2.1.5)\n",
      "Using cached optuna-4.0.0-py3-none-any.whl (362 kB)\n",
      "Using cached alembic-1.13.3-py3-none-any.whl (233 kB)\n",
      "Using cached colorlog-6.8.2-py3-none-any.whl (11 kB)\n",
      "Using cached Mako-1.3.5-py3-none-any.whl (78 kB)\n",
      "Installing collected packages: Mako, colorlog, alembic, optuna\n",
      "Successfully installed Mako-1.3.5 alembic-1.13.3 colorlog-6.8.2 optuna-4.0.0\n",
      "Note: you may need to restart the kernel to use updated packages.\n"
     ]
    }
   ],
   "source": [
    "pip install optuna"
   ]
  },
  {
   "cell_type": "code",
   "execution_count": 23,
   "id": "10f0f56a-a128-4126-b9c0-d04e03bf5bac",
   "metadata": {
    "tags": []
   },
   "outputs": [
    {
     "name": "stderr",
     "output_type": "stream",
     "text": [
      "[I 2024-10-20 07:17:02,028] A new study created in memory with name: no-name-33f208b4-22a7-4ae6-9896-88ad5ef3810f\n",
      "[I 2024-10-20 07:17:06,076] Trial 0 finished with value: 312.0858908433214 and parameters: {'n_factors': 142, 'n_epochs': 28, 'lr_all': 0.01122651588698382, 'reg_all': 0.01953423416808653}. Best is trial 0 with value: 312.0858908433214.\n",
      "[I 2024-10-20 07:17:11,046] Trial 1 finished with value: 228.46501163405637 and parameters: {'n_factors': 156, 'n_epochs': 35, 'lr_all': 0.008371834070993178, 'reg_all': 0.020798468192352763}. Best is trial 1 with value: 228.46501163405637.\n",
      "[I 2024-10-20 07:17:14,316] Trial 2 finished with value: 214.5314116446863 and parameters: {'n_factors': 187, 'n_epochs': 17, 'lr_all': 0.007880954295257325, 'reg_all': 0.031148124683189823}. Best is trial 2 with value: 214.5314116446863.\n",
      "[I 2024-10-20 07:17:16,690] Trial 3 finished with value: 486.2443812041637 and parameters: {'n_factors': 73, 'n_epochs': 21, 'lr_all': 0.0228702126126431, 'reg_all': 0.05796509799062326}. Best is trial 2 with value: 214.5314116446863.\n",
      "[I 2024-10-20 07:17:18,993] Trial 4 finished with value: 482.321985548827 and parameters: {'n_factors': 78, 'n_epochs': 19, 'lr_all': 0.02251264901032777, 'reg_all': 0.07065427964067675}. Best is trial 2 with value: 214.5314116446863.\n",
      "[I 2024-10-20 07:17:25,691] Trial 5 finished with value: 523.4199854370479 and parameters: {'n_factors': 165, 'n_epochs': 50, 'lr_all': 0.025161250103800378, 'reg_all': 0.011480250882434623}. Best is trial 2 with value: 214.5314116446863.\n",
      "[I 2024-10-20 07:17:30,248] Trial 6 finished with value: 258.48998807774336 and parameters: {'n_factors': 173, 'n_epochs': 30, 'lr_all': 0.00920074297912079, 'reg_all': 0.09982127397169091}. Best is trial 2 with value: 214.5314116446863.\n",
      "[I 2024-10-20 07:17:32,001] Trial 7 finished with value: 563.0515323963434 and parameters: {'n_factors': 162, 'n_epochs': 6, 'lr_all': 0.03949524753706881, 'reg_all': 0.08953366199884638}. Best is trial 2 with value: 214.5314116446863.\n",
      "[I 2024-10-20 07:17:37,134] Trial 8 finished with value: 686.4159409063351 and parameters: {'n_factors': 109, 'n_epochs': 49, 'lr_all': 0.044593028911955955, 'reg_all': 0.09364735421178091}. Best is trial 2 with value: 214.5314116446863.\n",
      "[I 2024-10-20 07:17:40,353] Trial 9 finished with value: 673.6055508265446 and parameters: {'n_factors': 108, 'n_epochs': 26, 'lr_all': 0.042838630376805145, 'reg_all': 0.06110360434882915}. Best is trial 2 with value: 214.5314116446863.\n",
      "[I 2024-10-20 07:17:41,266] Trial 10 finished with value: 39.890739829341655 and parameters: {'n_factors': 11, 'n_epochs': 7, 'lr_all': 0.0037846816254040417, 'reg_all': 0.04081693707918902}. Best is trial 10 with value: 39.890739829341655.\n",
      "[I 2024-10-20 07:17:42,257] Trial 11 finished with value: 29.02692588939491 and parameters: {'n_factors': 18, 'n_epochs': 8, 'lr_all': 0.001674328768904717, 'reg_all': 0.036011161742820215}. Best is trial 11 with value: 29.02692588939491.\n",
      "[I 2024-10-20 07:17:43,083] Trial 12 finished with value: 28.899042630931195 and parameters: {'n_factors': 10, 'n_epochs': 5, 'lr_all': 0.0016362223127145818, 'reg_all': 0.03986784771352139}. Best is trial 12 with value: 28.899042630931195.\n",
      "[I 2024-10-20 07:17:44,177] Trial 13 finished with value: 364.31662111588474 and parameters: {'n_factors': 10, 'n_epochs': 12, 'lr_all': 0.015281618215661957, 'reg_all': 0.04212986799260235}. Best is trial 12 with value: 28.899042630931195.\n",
      "[I 2024-10-20 07:17:45,595] Trial 14 finished with value: 29.024563555838693 and parameters: {'n_factors': 40, 'n_epochs': 12, 'lr_all': 0.001878759990141028, 'reg_all': 0.004388546732520371}. Best is trial 12 with value: 28.899042630931195.\n",
      "[I 2024-10-20 07:17:47,071] Trial 15 finished with value: 581.6931349501783 and parameters: {'n_factors': 44, 'n_epochs': 13, 'lr_all': 0.03370553733065137, 'reg_all': 0.0025279110523703865}. Best is trial 12 with value: 28.899042630931195.\n",
      "[I 2024-10-20 07:17:50,037] Trial 16 finished with value: 408.59994865546935 and parameters: {'n_factors': 43, 'n_epochs': 39, 'lr_all': 0.016373048251901546, 'reg_all': 0.0013815361002439477}. Best is trial 12 with value: 28.899042630931195.\n",
      "[I 2024-10-20 07:17:51,525] Trial 17 finished with value: 29.033224541524476 and parameters: {'n_factors': 42, 'n_epochs': 13, 'lr_all': 0.0011473561782956332, 'reg_all': 0.07859792229737242}. Best is trial 12 with value: 28.899042630931195.\n",
      "[I 2024-10-20 07:17:52,798] Trial 18 finished with value: 440.7994700234714 and parameters: {'n_factors': 78, 'n_epochs': 5, 'lr_all': 0.0333432704338238, 'reg_all': 0.027435388570167682}. Best is trial 12 with value: 28.899042630931195.\n",
      "[I 2024-10-20 07:17:54,134] Trial 19 finished with value: 376.2877713502379 and parameters: {'n_factors': 31, 'n_epochs': 12, 'lr_all': 0.01595453930259542, 'reg_all': 0.04661748583204298}. Best is trial 12 with value: 28.899042630931195.\n",
      "[I 2024-10-20 07:17:56,420] Trial 20 finished with value: 567.9269522012526 and parameters: {'n_factors': 60, 'n_epochs': 23, 'lr_all': 0.030180223484664377, 'reg_all': 0.05734751380093576}. Best is trial 12 with value: 28.899042630931195.\n",
      "[I 2024-10-20 07:17:57,540] Trial 21 finished with value: 28.9839913697942 and parameters: {'n_factors': 24, 'n_epochs': 9, 'lr_all': 0.001670901260823203, 'reg_all': 0.03319366495183478}. Best is trial 12 with value: 28.899042630931195.\n",
      "[I 2024-10-20 07:17:58,982] Trial 22 finished with value: 132.81288984053214 and parameters: {'n_factors': 26, 'n_epochs': 16, 'lr_all': 0.0056668326994908785, 'reg_all': 0.013663068565865518}. Best is trial 12 with value: 28.899042630931195.\n",
      "[I 2024-10-20 07:18:00,330] Trial 23 finished with value: 286.9388517226455 and parameters: {'n_factors': 47, 'n_epochs': 10, 'lr_all': 0.012272356660937246, 'reg_all': 0.026814448675830747}. Best is trial 12 with value: 28.899042630931195.\n",
      "[I 2024-10-20 07:18:01,656] Trial 24 finished with value: 49.66705968115829 and parameters: {'n_factors': 92, 'n_epochs': 5, 'lr_all': 0.005166037955948178, 'reg_all': 0.053157415746828335}. Best is trial 12 with value: 28.899042630931195.\n",
      "[I 2024-10-20 07:18:03,216] Trial 25 finished with value: 98.338859347407 and parameters: {'n_factors': 29, 'n_epochs': 16, 'lr_all': 0.0046599828541698035, 'reg_all': 0.03650719943868503}. Best is trial 12 with value: 28.899042630931195.\n",
      "[I 2024-10-20 07:18:05,205] Trial 26 finished with value: 404.9209618593427 and parameters: {'n_factors': 128, 'n_epochs': 10, 'lr_all': 0.01807728794370187, 'reg_all': 0.010089038992828456}. Best is trial 12 with value: 28.899042630931195.\n",
      "[I 2024-10-20 07:18:06,630] Trial 27 finished with value: 280.16319810166294 and parameters: {'n_factors': 60, 'n_epochs': 9, 'lr_all': 0.01186493879926143, 'reg_all': 0.06954757413073752}. Best is trial 12 with value: 28.899042630931195.\n",
      "[I 2024-10-20 07:18:09,108] Trial 28 finished with value: 453.18370263895775 and parameters: {'n_factors': 63, 'n_epochs': 24, 'lr_all': 0.01989703227343985, 'reg_all': 0.019305119093830238}. Best is trial 12 with value: 28.899042630931195.\n",
      "[I 2024-10-20 07:18:11,073] Trial 29 finished with value: 345.7502439284698 and parameters: {'n_factors': 25, 'n_epochs': 30, 'lr_all': 0.012830563674192452, 'reg_all': 0.04845631429764778}. Best is trial 12 with value: 28.899042630931195.\n",
      "[I 2024-10-20 07:18:13,551] Trial 30 finished with value: 210.99670940977657 and parameters: {'n_factors': 127, 'n_epochs': 15, 'lr_all': 0.008179224404992524, 'reg_all': 0.019982586271308694}. Best is trial 12 with value: 28.899042630931195.\n",
      "[I 2024-10-20 07:18:14,472] Trial 31 finished with value: 29.04584940059715 and parameters: {'n_factors': 10, 'n_epochs': 8, 'lr_all': 0.0015787748069625812, 'reg_all': 0.03335146143879574}. Best is trial 12 with value: 28.899042630931195.\n",
      "[I 2024-10-20 07:18:15,571] Trial 32 finished with value: 29.01886691666731 and parameters: {'n_factors': 26, 'n_epochs': 9, 'lr_all': 0.0011522662446068273, 'reg_all': 0.038675846793737936}. Best is trial 12 with value: 28.899042630931195.\n",
      "[I 2024-10-20 07:18:17,467] Trial 33 finished with value: 710.6674108608684 and parameters: {'n_factors': 36, 'n_epochs': 19, 'lr_all': 0.049476272864669074, 'reg_all': 0.025905403874113723}. Best is trial 12 with value: 28.899042630931195.\n",
      "[I 2024-10-20 07:18:18,948] Trial 34 finished with value: 181.50957533059537 and parameters: {'n_factors': 55, 'n_epochs': 11, 'lr_all': 0.0076075670427650606, 'reg_all': 0.04108324940297812}. Best is trial 12 with value: 28.899042630931195.\n",
      "[I 2024-10-20 07:18:21,277] Trial 35 finished with value: 64.0919465061694 and parameters: {'n_factors': 22, 'n_epochs': 36, 'lr_all': 0.003928929358279791, 'reg_all': 0.05249528921274706}. Best is trial 12 with value: 28.899042630931195.\n",
      "[I 2024-10-20 07:18:23,363] Trial 36 finished with value: 246.62578279918148 and parameters: {'n_factors': 94, 'n_epochs': 14, 'lr_all': 0.009663110120318208, 'reg_all': 0.06427843508093581}. Best is trial 12 with value: 28.899042630931195.\n",
      "[I 2024-10-20 07:18:26,995] Trial 37 finished with value: 171.13414547801403 and parameters: {'n_factors': 199, 'n_epochs': 19, 'lr_all': 0.006497624034421289, 'reg_all': 0.02997535151419182}. Best is trial 12 with value: 28.899042630931195.\n",
      "[I 2024-10-20 07:18:28,186] Trial 38 finished with value: 29.009803821758187 and parameters: {'n_factors': 52, 'n_epochs': 7, 'lr_all': 0.0012684411500796726, 'reg_all': 0.015504593201289968}. Best is trial 12 with value: 28.899042630931195.\n",
      "[I 2024-10-20 07:18:29,381] Trial 39 finished with value: 148.4195891964825 and parameters: {'n_factors': 74, 'n_epochs': 5, 'lr_all': 0.010043749656040185, 'reg_all': 0.022512672033497536}. Best is trial 12 with value: 28.899042630931195.\n",
      "[I 2024-10-20 07:18:30,385] Trial 40 finished with value: 47.96061624511988 and parameters: {'n_factors': 18, 'n_epochs': 8, 'lr_all': 0.003759344499337514, 'reg_all': 0.015601724328879124}. Best is trial 12 with value: 28.899042630931195.\n",
      "[I 2024-10-20 07:18:31,609] Trial 41 finished with value: 28.995843922401626 and parameters: {'n_factors': 32, 'n_epochs': 10, 'lr_all': 0.0010562149689722672, 'reg_all': 0.012397027898128217}. Best is trial 12 with value: 28.899042630931195.\n",
      "[I 2024-10-20 07:18:32,804] Trial 42 finished with value: 109.90946914501853 and parameters: {'n_factors': 51, 'n_epochs': 7, 'lr_all': 0.006696158697244558, 'reg_all': 0.007883142313045745}. Best is trial 12 with value: 28.899042630931195.\n",
      "[I 2024-10-20 07:18:34,067] Trial 43 finished with value: 41.03413347593577 and parameters: {'n_factors': 35, 'n_epochs': 10, 'lr_all': 0.002870661748678204, 'reg_all': 0.016962827663698776}. Best is trial 12 with value: 28.899042630931195.\n",
      "[I 2024-10-20 07:18:35,040] Trial 44 finished with value: 28.97036872898559 and parameters: {'n_factors': 19, 'n_epochs': 7, 'lr_all': 0.00123686595598956, 'reg_all': 0.035428575092081624}. Best is trial 12 with value: 28.899042630931195.\n",
      "[I 2024-10-20 07:18:37,575] Trial 45 finished with value: 204.1926210880236 and parameters: {'n_factors': 17, 'n_epochs': 47, 'lr_all': 0.007473103850087683, 'reg_all': 0.03197149077080505}. Best is trial 12 with value: 28.899042630931195.\n",
      "[I 2024-10-20 07:18:38,701] Trial 46 finished with value: 43.4537037818345 and parameters: {'n_factors': 67, 'n_epochs': 7, 'lr_all': 0.004121682581409417, 'reg_all': 0.02352246637162313}. Best is trial 12 with value: 28.899042630931195.\n",
      "[I 2024-10-20 07:18:39,554] Trial 47 finished with value: 103.60778630153314 and parameters: {'n_factors': 17, 'n_epochs': 5, 'lr_all': 0.009812058096775237, 'reg_all': 0.045540998543640035}. Best is trial 12 with value: 28.899042630931195.\n",
      "[I 2024-10-20 07:18:41,228] Trial 48 finished with value: 362.69501205397427 and parameters: {'n_factors': 36, 'n_epochs': 18, 'lr_all': 0.01396078755974541, 'reg_all': 0.005734050236367433}. Best is trial 12 with value: 28.899042630931195.\n",
      "[I 2024-10-20 07:18:42,828] Trial 49 finished with value: 530.1173109431277 and parameters: {'n_factors': 51, 'n_epochs': 14, 'lr_all': 0.027603102686782836, 'reg_all': 0.012629117879801866}. Best is trial 12 with value: 28.899042630931195.\n",
      "[I 2024-10-20 07:18:44,177] Trial 50 finished with value: 51.33045038392652 and parameters: {'n_factors': 10, 'n_epochs': 21, 'lr_all': 0.0031898422491695696, 'reg_all': 0.0335600023756559}. Best is trial 12 with value: 28.899042630931195.\n",
      "[I 2024-10-20 07:18:45,328] Trial 51 finished with value: 29.020852980101246 and parameters: {'n_factors': 28, 'n_epochs': 9, 'lr_all': 0.002060631899292652, 'reg_all': 0.037798050488102065}. Best is trial 12 with value: 28.899042630931195.\n",
      "[I 2024-10-20 07:18:46,303] Trial 52 finished with value: 86.87541951900441 and parameters: {'n_factors': 21, 'n_epochs': 7, 'lr_all': 0.005894173568549712, 'reg_all': 0.04195515483143923}. Best is trial 12 with value: 28.899042630931195.\n",
      "[I 2024-10-20 07:18:47,550] Trial 53 finished with value: 28.912175796341604 and parameters: {'n_factors': 31, 'n_epochs': 11, 'lr_all': 0.0010941504042839877, 'reg_all': 0.03811420296174729}. Best is trial 12 with value: 28.899042630931195.\n",
      "[I 2024-10-20 07:18:48,958] Trial 54 finished with value: 119.11954286685982 and parameters: {'n_factors': 40, 'n_epochs': 12, 'lr_all': 0.005342107073459281, 'reg_all': 0.029554901895825207}. Best is trial 12 with value: 28.899042630931195.\n",
      "[I 2024-10-20 07:18:50,270] Trial 55 finished with value: 41.19837804516317 and parameters: {'n_factors': 35, 'n_epochs': 11, 'lr_all': 0.0028295775000588266, 'reg_all': 0.04441939516991682}. Best is trial 12 with value: 28.899042630931195.\n",
      "[I 2024-10-20 07:18:51,190] Trial 56 finished with value: 29.015729044677688 and parameters: {'n_factors': 16, 'n_epochs': 6, 'lr_all': 0.0011734993572976751, 'reg_all': 0.050409807976154256}. Best is trial 12 with value: 28.899042630931195.\n",
      "[I 2024-10-20 07:18:52,788] Trial 57 finished with value: 200.85282752303348 and parameters: {'n_factors': 47, 'n_epochs': 14, 'lr_all': 0.007832842386208592, 'reg_all': 0.02417314928978604}. Best is trial 12 with value: 28.899042630931195.\n",
      "[I 2024-10-20 07:18:53,844] Trial 58 finished with value: 559.8524108028001 and parameters: {'n_factors': 31, 'n_epochs': 7, 'lr_all': 0.03946746415263859, 'reg_all': 0.03543257009106464}. Best is trial 12 with value: 28.899042630931195.\n",
      "[I 2024-10-20 07:18:58,210] Trial 59 finished with value: 128.76054803064682 and parameters: {'n_factors': 87, 'n_epochs': 43, 'lr_all': 0.005166351389525861, 'reg_all': 0.028203177111909082}. Best is trial 12 with value: 28.899042630931195.\n",
      "[I 2024-10-20 07:19:00,609] Trial 60 finished with value: 297.0922883163307 and parameters: {'n_factors': 41, 'n_epochs': 29, 'lr_all': 0.010765801622186481, 'reg_all': 0.056625198609832374}. Best is trial 12 with value: 28.899042630931195.\n",
      "[I 2024-10-20 07:19:01,516] Trial 61 finished with value: 28.94829130734819 and parameters: {'n_factors': 15, 'n_epochs': 6, 'lr_all': 0.001352972800115244, 'reg_all': 0.05020999223442513}. Best is trial 12 with value: 28.899042630931195.\n",
      "[I 2024-10-20 07:19:02,461] Trial 62 finished with value: 29.000890525908915 and parameters: {'n_factors': 22, 'n_epochs': 5, 'lr_all': 0.002942725551278165, 'reg_all': 0.04420093101125322}. Best is trial 12 with value: 28.899042630931195.\n",
      "[I 2024-10-20 07:19:03,162] Trial 63 finished with value: 29.075601463636126 and parameters: {'n_factors': 14, 'n_epochs': 5, 'lr_all': 0.0030139005805596567, 'reg_all': 0.04852212557734839}. Best is trial 12 with value: 28.899042630931195.\n",
      "[I 2024-10-20 07:19:04,397] Trial 64 finished with value: 102.36848616323736 and parameters: {'n_factors': 23, 'n_epochs': 11, 'lr_all': 0.005099245721692295, 'reg_all': 0.04494695934768239}. Best is trial 12 with value: 28.899042630931195.\n",
      "[I 2024-10-20 07:19:05,755] Trial 65 finished with value: 442.64194372158397 and parameters: {'n_factors': 31, 'n_epochs': 9, 'lr_all': 0.022177938448983036, 'reg_all': 0.06181296527853078}. Best is trial 12 with value: 28.899042630931195.\n",
      "[I 2024-10-20 07:19:07,293] Trial 66 finished with value: 40.658409743630095 and parameters: {'n_factors': 151, 'n_epochs': 6, 'lr_all': 0.0032127627901854636, 'reg_all': 0.03911255452344407}. Best is trial 12 with value: 28.899042630931195.\n",
      "[I 2024-10-20 07:19:08,477] Trial 67 finished with value: 28.913762133000933 and parameters: {'n_factors': 10, 'n_epochs': 10, 'lr_all': 0.0010314922797879469, 'reg_all': 0.05640083796383124}. Best is trial 12 with value: 28.899042630931195.\n",
      "[I 2024-10-20 07:19:10,201] Trial 68 finished with value: 105.33566192579651 and parameters: {'n_factors': 10, 'n_epochs': 32, 'lr_all': 0.004613534261167817, 'reg_all': 0.05606064587698752}. Best is trial 12 with value: 28.899042630931195.\n",
      "[I 2024-10-20 07:19:11,509] Trial 69 finished with value: 228.03730717745321 and parameters: {'n_factors': 27, 'n_epochs': 16, 'lr_all': 0.008609214561817876, 'reg_all': 0.07430593062726518}. Best is trial 12 with value: 28.899042630931195.\n",
      "[I 2024-10-20 07:19:12,903] Trial 70 finished with value: 154.85681201230813 and parameters: {'n_factors': 18, 'n_epochs': 13, 'lr_all': 0.006468886041552978, 'reg_all': 0.06369004069338692}. Best is trial 12 with value: 28.899042630931195.\n",
      "[I 2024-10-20 07:19:13,968] Trial 71 finished with value: 29.01764720408217 and parameters: {'n_factors': 20, 'n_epochs': 9, 'lr_all': 0.001073185145571795, 'reg_all': 0.05273583740164444}. Best is trial 12 with value: 28.899042630931195.\n",
      "[I 2024-10-20 07:19:14,875] Trial 72 finished with value: 44.15105705244788 and parameters: {'n_factors': 14, 'n_epochs': 11, 'lr_all': 0.003337698237151021, 'reg_all': 0.04256780863055714}. Best is trial 12 with value: 28.899042630931195.\n",
      "[I 2024-10-20 07:19:16,006] Trial 73 finished with value: 29.0630611870618 and parameters: {'n_factors': 23, 'n_epochs': 6, 'lr_all': 0.0024443638090646874, 'reg_all': 0.049256907593704484}. Best is trial 12 with value: 28.899042630931195.\n",
      "[I 2024-10-20 07:19:17,113] Trial 74 finished with value: 57.00917227691515 and parameters: {'n_factors': 31, 'n_epochs': 8, 'lr_all': 0.004426466884181398, 'reg_all': 0.034796027957172515}. Best is trial 12 with value: 28.899042630931195.\n",
      "[I 2024-10-20 07:19:18,905] Trial 75 finished with value: 32.89038844097166 and parameters: {'n_factors': 124, 'n_epochs': 10, 'lr_all': 0.0022390141270705512, 'reg_all': 0.03940759964740818}. Best is trial 12 with value: 28.899042630931195.\n",
      "[I 2024-10-20 07:19:20,241] Trial 76 finished with value: 28.905875258110484 and parameters: {'n_factors': 36, 'n_epochs': 8, 'lr_all': 0.0010113544407443504, 'reg_all': 0.059727971804445924}. Best is trial 12 with value: 28.899042630931195.\n",
      "[I 2024-10-20 07:19:21,614] Trial 77 finished with value: 153.07944547745086 and parameters: {'n_factors': 38, 'n_epochs': 12, 'lr_all': 0.006439965628280314, 'reg_all': 0.06915082026580122}. Best is trial 12 with value: 28.899042630931195.\n",
      "[I 2024-10-20 07:19:22,656] Trial 78 finished with value: 28.969952252296235 and parameters: {'n_factors': 45, 'n_epochs': 8, 'lr_all': 0.0010724107721668194, 'reg_all': 0.059440489916526756}. Best is trial 12 with value: 28.899042630931195.\n",
      "[I 2024-10-20 07:19:23,811] Trial 79 finished with value: 59.414484755429044 and parameters: {'n_factors': 14, 'n_epochs': 8, 'lr_all': 0.00460773369680547, 'reg_all': 0.058862962184977635}. Best is trial 12 with value: 28.899042630931195.\n",
      "[I 2024-10-20 07:19:25,324] Trial 80 finished with value: 181.00523558698177 and parameters: {'n_factors': 45, 'n_epochs': 13, 'lr_all': 0.0073033856756785625, 'reg_all': 0.06627334817819625}. Best is trial 12 with value: 28.899042630931195.\n",
      "[I 2024-10-20 07:19:26,384] Trial 81 finished with value: 29.045793059326304 and parameters: {'n_factors': 33, 'n_epochs': 10, 'lr_all': 0.0011604643961455334, 'reg_all': 0.05368030538570749}. Best is trial 12 with value: 28.899042630931195.\n",
      "[I 2024-10-20 07:19:27,622] Trial 82 finished with value: 28.98767602744062 and parameters: {'n_factors': 26, 'n_epochs': 8, 'lr_all': 0.0021426647327754487, 'reg_all': 0.058284118994474055}. Best is trial 12 with value: 28.899042630931195.\n",
      "[I 2024-10-20 07:19:28,697] Trial 83 finished with value: 29.067952260313653 and parameters: {'n_factors': 25, 'n_epochs': 8, 'lr_all': 0.0023097668488529866, 'reg_all': 0.0599791722249408}. Best is trial 12 with value: 28.899042630931195.\n",
      "[I 2024-10-20 07:19:29,683] Trial 84 finished with value: 43.47964676583575 and parameters: {'n_factors': 57, 'n_epochs': 6, 'lr_all': 0.004119433597355303, 'reg_all': 0.054549435510604004}. Best is trial 12 with value: 28.899042630931195.\n",
      "[I 2024-10-20 07:19:30,994] Trial 85 finished with value: 116.70942756509226 and parameters: {'n_factors': 27, 'n_epochs': 9, 'lr_all': 0.00604199034630326, 'reg_all': 0.07356670849263565}. Best is trial 12 with value: 28.899042630931195.\n",
      "[I 2024-10-20 07:19:32,862] Trial 86 finished with value: 28.984449198045915 and parameters: {'n_factors': 178, 'n_epochs': 6, 'lr_all': 0.0022597196589420544, 'reg_all': 0.06514742161398686}. Best is trial 12 with value: 28.899042630931195.\n",
      "[I 2024-10-20 07:19:34,548] Trial 87 finished with value: 163.46188035662465 and parameters: {'n_factors': 173, 'n_epochs': 6, 'lr_all': 0.008692313677254433, 'reg_all': 0.08613726730152946}. Best is trial 12 with value: 28.899042630931195.\n",
      "[I 2024-10-20 07:19:39,271] Trial 88 finished with value: 64.64442107361937 and parameters: {'n_factors': 195, 'n_epochs': 26, 'lr_all': 0.0038867322453535486, 'reg_all': 0.06497368343491419}. Best is trial 12 with value: 28.899042630931195.\n",
      "[I 2024-10-20 07:19:41,699] Trial 89 finished with value: 35.545818505518184 and parameters: {'n_factors': 172, 'n_epochs': 11, 'lr_all': 0.0023957450159784403, 'reg_all': 0.06833275324742194}. Best is trial 12 with value: 28.899042630931195.\n",
      "[I 2024-10-20 07:19:43,057] Trial 90 finished with value: 40.37947466892959 and parameters: {'n_factors': 134, 'n_epochs': 5, 'lr_all': 0.003634200679277052, 'reg_all': 0.04786748475523943}. Best is trial 12 with value: 28.899042630931195.\n",
      "[I 2024-10-20 07:19:44,866] Trial 91 finished with value: 28.83923168750865 and parameters: {'n_factors': 113, 'n_epochs': 7, 'lr_all': 0.0010498508786987025, 'reg_all': 0.06194429830638341}. Best is trial 91 with value: 28.83923168750865.\n",
      "[I 2024-10-20 07:19:46,451] Trial 92 finished with value: 28.993664865765897 and parameters: {'n_factors': 112, 'n_epochs': 7, 'lr_all': 0.0019459216686229354, 'reg_all': 0.06195531894529668}. Best is trial 91 with value: 28.83923168750865.\n",
      "[I 2024-10-20 07:19:48,165] Trial 93 finished with value: 86.42176651263284 and parameters: {'n_factors': 183, 'n_epochs': 6, 'lr_all': 0.005391666753736335, 'reg_all': 0.07276281899730722}. Best is trial 91 with value: 28.83923168750865.\n",
      "[I 2024-10-20 07:19:50,089] Trial 94 finished with value: 29.033072075126405 and parameters: {'n_factors': 104, 'n_epochs': 9, 'lr_all': 0.0010504518445689638, 'reg_all': 0.05101355182148738}. Best is trial 91 with value: 28.83923168750865.\n",
      "[I 2024-10-20 07:19:52,011] Trial 95 finished with value: 42.52259872157633 and parameters: {'n_factors': 159, 'n_epochs': 7, 'lr_all': 0.0035637333731242298, 'reg_all': 0.06691089599143019}. Best is trial 91 with value: 28.83923168750865.\n",
      "[I 2024-10-20 07:19:53,546] Trial 96 finished with value: 29.09941496744495 and parameters: {'n_factors': 82, 'n_epochs': 10, 'lr_all': 0.002066434186966804, 'reg_all': 0.07671306073433055}. Best is trial 91 with value: 28.83923168750865.\n",
      "[I 2024-10-20 07:19:55,635] Trial 97 finished with value: 554.5281205962855 and parameters: {'n_factors': 143, 'n_epochs': 8, 'lr_all': 0.03334414654340313, 'reg_all': 0.03163794073045007}. Best is trial 91 with value: 28.83923168750865.\n",
      "[I 2024-10-20 07:19:56,455] Trial 98 finished with value: 29.093459144052265 and parameters: {'n_factors': 13, 'n_epochs': 5, 'lr_all': 0.005566322785898608, 'reg_all': 0.05555022350310283}. Best is trial 91 with value: 28.83923168750865.\n",
      "[I 2024-10-20 07:19:58,641] Trial 99 finished with value: 47.12205702705513 and parameters: {'n_factors': 118, 'n_epochs': 15, 'lr_all': 0.002938001237268552, 'reg_all': 0.03696909579469136}. Best is trial 91 with value: 28.83923168750865.\n"
     ]
    },
    {
     "name": "stdout",
     "output_type": "stream",
     "text": [
      "Best trial: {'n_factors': 113, 'n_epochs': 7, 'lr_all': 0.0010498508786987025, 'reg_all': 0.06194429830638341}\n",
      "Best RMSE: 28.83923168750865\n"
     ]
    }
   ],
   "source": [
    "import optuna\n",
    "from surprise import Dataset, Reader, SVD\n",
    "from surprise.model_selection import cross_validate\n",
    "from sklearn.metrics import mean_squared_error\n",
    "import pandas as pd\n",
    "\n",
    "# Prepare the data for Surprise\n",
    "reader = Reader(rating_scale=(1, 967))  # Assuming the rating scale ranges from 1 to 10\n",
    "data = Dataset.load_from_df(cleaned_data[['User_ID', 'job_id', 'interaction']], reader)\n",
    "\n",
    "# Split the data into trainset and testset (this will be done within the cross-validation)\n",
    "trainset = data.build_full_trainset()\n",
    "\n",
    "# Objective function for Optuna\n",
    "def objective(trial):\n",
    "    # Define hyperparameters to be tuned\n",
    "    param = {\n",
    "        'n_factors': trial.suggest_int('n_factors', 10, 200),  # Number of latent factors\n",
    "        'n_epochs': trial.suggest_int('n_epochs', 5, 50),  # Number of epochs\n",
    "        'lr_all': trial.suggest_float('lr_all', 0.001, 0.05),  # Learning rate for SGD\n",
    "        'reg_all': trial.suggest_float('reg_all', 0.001, 0.1)  # Regularization term\n",
    "    }\n",
    "\n",
    "    # Create the SVD model with the suggested hyperparameters\n",
    "    svd_model = SVD(**param)\n",
    "\n",
    "    # Perform cross-validation and return the RMSE score\n",
    "    results = cross_validate(svd_model, data, measures=['rmse'], cv=5, verbose=False)\n",
    "    \n",
    "    # Return the average RMSE score (minimizing this)\n",
    "    return np.mean(results['test_rmse'])\n",
    "\n",
    "# Enable the default logger of Optuna\n",
    "optuna.logging.enable_default_handler()\n",
    "\n",
    "# Set the logging level (for more detailed information)\n",
    "optuna.logging.set_verbosity(optuna.logging.INFO)\n",
    "\n",
    "# Create an Optuna study for minimizing the RMSE (Root Mean Squared Error)\n",
    "study = optuna.create_study(direction='minimize')\n",
    "\n",
    "# Perform optimization\n",
    "study.optimize(objective, n_trials=100)\n",
    "\n",
    "# Best hyperparameters\n",
    "print('Best trial:', study.best_trial.params)\n",
    "\n",
    "# Best RMSE value\n",
    "print('Best RMSE:', study.best_value)\n",
    "\n"
   ]
  },
  {
   "cell_type": "code",
   "execution_count": 24,
   "id": "2947abc4-1092-41ce-81a2-f1737a270605",
   "metadata": {
    "tags": []
   },
   "outputs": [
    {
     "name": "stdout",
     "output_type": "stream",
     "text": [
      "Best hyperparameters:  {'n_factors': 113, 'n_epochs': 7, 'lr_all': 0.0010498508786987025, 'reg_all': 0.06194429830638341}\n"
     ]
    }
   ],
   "source": [
    "best_params = study.best_trial.params\n",
    "print(\"Best hyperparameters: \", best_params)"
   ]
  },
  {
   "cell_type": "code",
   "execution_count": 25,
   "id": "e57d5681-fbc6-4a17-8dd4-681726f5c3ea",
   "metadata": {
    "tags": []
   },
   "outputs": [
    {
     "data": {
      "text/plain": [
       "<surprise.prediction_algorithms.matrix_factorization.SVD at 0x7fc42446e800>"
      ]
     },
     "execution_count": 25,
     "metadata": {},
     "output_type": "execute_result"
    }
   ],
   "source": [
    "# retrain the model with the tuned hyperparameters\n",
    "\n",
    "# Step 3: Train the SVD model\n",
    "model_tune = SVD(**best_params)\n",
    "model_tune.fit(trainset)"
   ]
  },
  {
   "cell_type": "code",
   "execution_count": 26,
   "id": "8954939a-a7d7-4158-862d-3a4de6a022b4",
   "metadata": {
    "tags": []
   },
   "outputs": [
    {
     "name": "stdout",
     "output_type": "stream",
     "text": [
      "RMSE: 23.1720\n"
     ]
    },
    {
     "data": {
      "text/plain": [
       "23.1720372513467"
      ]
     },
     "execution_count": 26,
     "metadata": {},
     "output_type": "execute_result"
    }
   ],
   "source": [
    "# Step 4: Evaluate the model on the test set using RMSE (optional)\n",
    "predictions = model_tune.test(testset)\n",
    "accuracy.rmse(predictions)"
   ]
  },
  {
   "cell_type": "code",
   "execution_count": 27,
   "id": "c620b04d-b388-4dfa-84ed-d77ce7a25f8f",
   "metadata": {
    "tags": []
   },
   "outputs": [
    {
     "name": "stdout",
     "output_type": "stream",
     "text": [
      "RMSE: 23.1720\n",
      "RMSE: 23.1720372513467\n",
      "MAE: 10.994374400387773\n",
      "MSE: 536.9433103777992\n",
      "R²: 0.21466848426213658\n"
     ]
    }
   ],
   "source": [
    "# Extract the true ratings and predicted ratings\n",
    "true_ratings = [pred.r_ui for pred in predictions]  # Actual ratings\n",
    "predicted_ratings = [pred.est for pred in predictions]  # Predicted ratings\n",
    "\n",
    "# Mean Absolute Error (MAE)\n",
    "mae = mean_absolute_error(true_ratings, predicted_ratings)\n",
    "\n",
    "# Mean Squared Error (MSE)\n",
    "mse = mean_squared_error(true_ratings, predicted_ratings)\n",
    "\n",
    "# R-squared (R²)\n",
    "r2 = r2_score(true_ratings, predicted_ratings)\n",
    "\n",
    "# RMSE\n",
    "rmse = accuracy.rmse(predictions)\n",
    "\n",
    "# Print the evaluation metrics\n",
    "print(f\"RMSE: {rmse}\")\n",
    "print(f\"MAE: {mae}\")\n",
    "print(f\"MSE: {mse}\")\n",
    "print(f\"R²: {r2}\")"
   ]
  },
  {
   "cell_type": "markdown",
   "id": "46b9ce30-10e0-4d6f-b6aa-58d6de3459e7",
   "metadata": {},
   "source": [
    "The hyperparameter tuning improved the model"
   ]
  },
  {
   "cell_type": "code",
   "execution_count": 28,
   "id": "1e67432c-85ef-43ee-9a2f-f46d9115926f",
   "metadata": {
    "tags": []
   },
   "outputs": [
    {
     "name": "stdout",
     "output_type": "stream",
     "text": [
      "Model saved as svd_model_job.joblib\n"
     ]
    }
   ],
   "source": [
    "# Step 5: Save the trained model using joblib for later use (e.g., deployment)\n",
    "\n",
    "import joblib\n",
    "model_filename = 'svd_model_job.joblib'\n",
    "joblib.dump(model_tune, model_filename)\n",
    "print(f\"Model saved as {model_filename}\")"
   ]
  },
  {
   "cell_type": "code",
   "execution_count": null,
   "id": "8623dc10-6a97-4e8c-9a36-51a76bf79c8e",
   "metadata": {},
   "outputs": [],
   "source": []
  }
 ],
 "metadata": {
  "kernelspec": {
   "display_name": "Python (Local)",
   "language": "python",
   "name": "base"
  },
  "language_info": {
   "codemirror_mode": {
    "name": "ipython",
    "version": 3
   },
   "file_extension": ".py",
   "mimetype": "text/x-python",
   "name": "python",
   "nbconvert_exporter": "python",
   "pygments_lexer": "ipython3",
   "version": "3.10.15"
  }
 },
 "nbformat": 4,
 "nbformat_minor": 5
}
